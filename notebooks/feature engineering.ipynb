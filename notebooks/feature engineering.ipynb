{
 "cells": [
  {
   "cell_type": "code",
   "execution_count": 1,
   "metadata": {},
   "outputs": [
    {
     "name": "stderr",
     "output_type": "stream",
     "text": [
      "C:\\Anaconda3\\lib\\site-packages\\sklearn\\ensemble\\weight_boosting.py:29: DeprecationWarning: numpy.core.umath_tests is an internal NumPy module and should not be imported. It will be removed in a future NumPy release.\n",
      "  from numpy.core.umath_tests import inner1d\n"
     ]
    }
   ],
   "source": [
    "import pandas as pd\n",
    "import numpy as np\n",
    "#from plotnine import *\n",
    "from sklearn.decomposition import PCA\n",
    "from sklearn.cluster import KMeans\n",
    "from sklearn.metrics import accuracy_score\n",
    "from sklearn.linear_model import LogisticRegression\n",
    "from sklearn.metrics import confusion_matrix\n",
    "from sklearn.metrics import precision_score, recall_score\n",
    "from sklearn.metrics import cohen_kappa_score\n",
    "from sklearn import preprocessing\n",
    "from sklearn.preprocessing import StandardScaler\n",
    "from sklearn.preprocessing import PolynomialFeatures\n",
    "from sklearn.model_selection import train_test_split\n",
    "from sklearn.svm import LinearSVC\n",
    "from sklearn.svm import SVC\n",
    "\n",
    "from sklearn.tree import DecisionTreeClassifier\n",
    "from sklearn.tree import export_graphviz\n",
    "from sklearn.ensemble import BaggingClassifier\n",
    "from sklearn.tree import DecisionTreeClassifier\n",
    "from sklearn.ensemble import RandomForestClassifier\n",
    "from sklearn.model_selection import GridSearchCV\n",
    "from sklearn.metrics import make_scorer\n",
    "from sklearn.ensemble import GradientBoostingClassifier\n",
    "from sklearn.metrics import log_loss\n",
    "from sklearn.pipeline import Pipeline\n",
    "from sklearn.ensemble import VotingClassifier \n",
    "from sklearn.ensemble import BaggingClassifier \n",
    "\n",
    "from scipy.interpolate import interp1d\n",
    "from scipy import interpolate\n",
    "    \n",
    "import statsmodels.api as sm\n",
    "import itertools\n",
    "\n",
    "from scipy.stats import mode\n",
    "\n",
    "import random\n",
    " \n",
    "import matplotlib.pyplot as plt\n",
    "plt.style.use('classic')\n",
    "%matplotlib inline\n",
    "import seaborn as sns\n",
    "sns.set()\n",
    "\n",
    "import xgboost as xgb"
   ]
  },
  {
   "cell_type": "code",
   "execution_count": 2,
   "metadata": {},
   "outputs": [],
   "source": [
    "train = pd.read_csv('C:\\\\Users\\\\i053131\\\\Desktop\\\\Epilepsie\\\\CFM\\\\data\\\\raw\\\\training_input.csv', sep=';')\n",
    "test = pd.read_csv('C:\\\\Users\\\\i053131\\\\Desktop\\\\Epilepsie\\\\CFM\\\\data\\\\raw\\\\testing_input.csv', sep=';') \n",
    "output = pd.read_csv('C:\\\\Users\\\\i053131\\\\Desktop\\\\Epilepsie\\\\CFM\\\\data\\\\raw\\\\challenge_output_data_training_file_volatility_prediction_in_financial_markets.csv', sep=';')"
   ]
  },
  {
   "cell_type": "code",
   "execution_count": 3,
   "metadata": {},
   "outputs": [],
   "source": [
    "y = output[\"TARGET\"]"
   ]
  },
  {
   "cell_type": "code",
   "execution_count": 4,
   "metadata": {},
   "outputs": [],
   "source": [
    "df = train.copy()"
   ]
  },
  {
   "cell_type": "code",
   "execution_count": 5,
   "metadata": {},
   "outputs": [
    {
     "data": {
      "text/html": [
       "<div>\n",
       "<style scoped>\n",
       "    .dataframe tbody tr th:only-of-type {\n",
       "        vertical-align: middle;\n",
       "    }\n",
       "\n",
       "    .dataframe tbody tr th {\n",
       "        vertical-align: top;\n",
       "    }\n",
       "\n",
       "    .dataframe thead th {\n",
       "        text-align: right;\n",
       "    }\n",
       "</style>\n",
       "<table border=\"1\" class=\"dataframe\">\n",
       "  <thead>\n",
       "    <tr style=\"text-align: right;\">\n",
       "      <th></th>\n",
       "      <th>ID</th>\n",
       "      <th>date</th>\n",
       "      <th>product_id</th>\n",
       "      <th>volatility 09:30:00</th>\n",
       "      <th>volatility 09:35:00</th>\n",
       "      <th>volatility 09:40:00</th>\n",
       "      <th>volatility 09:45:00</th>\n",
       "      <th>volatility 09:50:00</th>\n",
       "      <th>volatility 09:55:00</th>\n",
       "      <th>volatility 10:00:00</th>\n",
       "      <th>...</th>\n",
       "      <th>return 13:10:00</th>\n",
       "      <th>return 13:15:00</th>\n",
       "      <th>return 13:20:00</th>\n",
       "      <th>return 13:25:00</th>\n",
       "      <th>return 13:30:00</th>\n",
       "      <th>return 13:35:00</th>\n",
       "      <th>return 13:40:00</th>\n",
       "      <th>return 13:45:00</th>\n",
       "      <th>return 13:50:00</th>\n",
       "      <th>return 13:55:00</th>\n",
       "    </tr>\n",
       "  </thead>\n",
       "  <tbody>\n",
       "    <tr>\n",
       "      <th>0</th>\n",
       "      <td>1</td>\n",
       "      <td>1</td>\n",
       "      <td>1</td>\n",
       "      <td>0.662737</td>\n",
       "      <td>0.716896</td>\n",
       "      <td>0.698601</td>\n",
       "      <td>0.480172</td>\n",
       "      <td>0.623665</td>\n",
       "      <td>0.201876</td>\n",
       "      <td>0.327206</td>\n",
       "      <td>...</td>\n",
       "      <td>1.0</td>\n",
       "      <td>1.0</td>\n",
       "      <td>1.0</td>\n",
       "      <td>-1.0</td>\n",
       "      <td>1.0</td>\n",
       "      <td>-1.0</td>\n",
       "      <td>0.0</td>\n",
       "      <td>1.0</td>\n",
       "      <td>1.0</td>\n",
       "      <td>-1.0</td>\n",
       "    </tr>\n",
       "    <tr>\n",
       "      <th>1</th>\n",
       "      <td>2</td>\n",
       "      <td>1</td>\n",
       "      <td>2</td>\n",
       "      <td>0.285394</td>\n",
       "      <td>0.379560</td>\n",
       "      <td>0.094858</td>\n",
       "      <td>0.094794</td>\n",
       "      <td>0.055315</td>\n",
       "      <td>0.173994</td>\n",
       "      <td>0.102745</td>\n",
       "      <td>...</td>\n",
       "      <td>1.0</td>\n",
       "      <td>1.0</td>\n",
       "      <td>1.0</td>\n",
       "      <td>1.0</td>\n",
       "      <td>1.0</td>\n",
       "      <td>-1.0</td>\n",
       "      <td>-1.0</td>\n",
       "      <td>1.0</td>\n",
       "      <td>-1.0</td>\n",
       "      <td>-1.0</td>\n",
       "    </tr>\n",
       "    <tr>\n",
       "      <th>2</th>\n",
       "      <td>3</td>\n",
       "      <td>1</td>\n",
       "      <td>3</td>\n",
       "      <td>1.151646</td>\n",
       "      <td>1.093562</td>\n",
       "      <td>1.833443</td>\n",
       "      <td>0.595823</td>\n",
       "      <td>0.310177</td>\n",
       "      <td>0.792310</td>\n",
       "      <td>0.401979</td>\n",
       "      <td>...</td>\n",
       "      <td>1.0</td>\n",
       "      <td>1.0</td>\n",
       "      <td>-1.0</td>\n",
       "      <td>-1.0</td>\n",
       "      <td>1.0</td>\n",
       "      <td>1.0</td>\n",
       "      <td>-1.0</td>\n",
       "      <td>1.0</td>\n",
       "      <td>1.0</td>\n",
       "      <td>1.0</td>\n",
       "    </tr>\n",
       "    <tr>\n",
       "      <th>3</th>\n",
       "      <td>4</td>\n",
       "      <td>1</td>\n",
       "      <td>4</td>\n",
       "      <td>0.835260</td>\n",
       "      <td>0.329615</td>\n",
       "      <td>0.340366</td>\n",
       "      <td>0.216692</td>\n",
       "      <td>0.350371</td>\n",
       "      <td>0.247594</td>\n",
       "      <td>0.341194</td>\n",
       "      <td>...</td>\n",
       "      <td>-1.0</td>\n",
       "      <td>1.0</td>\n",
       "      <td>1.0</td>\n",
       "      <td>0.0</td>\n",
       "      <td>1.0</td>\n",
       "      <td>-1.0</td>\n",
       "      <td>-1.0</td>\n",
       "      <td>-1.0</td>\n",
       "      <td>-1.0</td>\n",
       "      <td>1.0</td>\n",
       "    </tr>\n",
       "    <tr>\n",
       "      <th>4</th>\n",
       "      <td>5</td>\n",
       "      <td>1</td>\n",
       "      <td>5</td>\n",
       "      <td>0.274185</td>\n",
       "      <td>0.061076</td>\n",
       "      <td>0.010168</td>\n",
       "      <td>0.060890</td>\n",
       "      <td>0.000000</td>\n",
       "      <td>0.213162</td>\n",
       "      <td>0.162763</td>\n",
       "      <td>...</td>\n",
       "      <td>-1.0</td>\n",
       "      <td>1.0</td>\n",
       "      <td>1.0</td>\n",
       "      <td>0.0</td>\n",
       "      <td>1.0</td>\n",
       "      <td>0.0</td>\n",
       "      <td>-1.0</td>\n",
       "      <td>-1.0</td>\n",
       "      <td>-1.0</td>\n",
       "      <td>0.0</td>\n",
       "    </tr>\n",
       "  </tbody>\n",
       "</table>\n",
       "<p>5 rows × 111 columns</p>\n",
       "</div>"
      ],
      "text/plain": [
       "   ID  date  product_id  volatility 09:30:00  volatility 09:35:00  \\\n",
       "0   1     1           1             0.662737             0.716896   \n",
       "1   2     1           2             0.285394             0.379560   \n",
       "2   3     1           3             1.151646             1.093562   \n",
       "3   4     1           4             0.835260             0.329615   \n",
       "4   5     1           5             0.274185             0.061076   \n",
       "\n",
       "   volatility 09:40:00  volatility 09:45:00  volatility 09:50:00  \\\n",
       "0             0.698601             0.480172             0.623665   \n",
       "1             0.094858             0.094794             0.055315   \n",
       "2             1.833443             0.595823             0.310177   \n",
       "3             0.340366             0.216692             0.350371   \n",
       "4             0.010168             0.060890             0.000000   \n",
       "\n",
       "   volatility 09:55:00  volatility 10:00:00       ...         return 13:10:00  \\\n",
       "0             0.201876             0.327206       ...                     1.0   \n",
       "1             0.173994             0.102745       ...                     1.0   \n",
       "2             0.792310             0.401979       ...                     1.0   \n",
       "3             0.247594             0.341194       ...                    -1.0   \n",
       "4             0.213162             0.162763       ...                    -1.0   \n",
       "\n",
       "   return 13:15:00  return 13:20:00  return 13:25:00  return 13:30:00  \\\n",
       "0              1.0              1.0             -1.0              1.0   \n",
       "1              1.0              1.0              1.0              1.0   \n",
       "2              1.0             -1.0             -1.0              1.0   \n",
       "3              1.0              1.0              0.0              1.0   \n",
       "4              1.0              1.0              0.0              1.0   \n",
       "\n",
       "   return 13:35:00  return 13:40:00  return 13:45:00  return 13:50:00  \\\n",
       "0             -1.0              0.0              1.0              1.0   \n",
       "1             -1.0             -1.0              1.0             -1.0   \n",
       "2              1.0             -1.0              1.0              1.0   \n",
       "3             -1.0             -1.0             -1.0             -1.0   \n",
       "4              0.0             -1.0             -1.0             -1.0   \n",
       "\n",
       "   return 13:55:00  \n",
       "0             -1.0  \n",
       "1             -1.0  \n",
       "2              1.0  \n",
       "3              1.0  \n",
       "4              0.0  \n",
       "\n",
       "[5 rows x 111 columns]"
      ]
     },
     "execution_count": 5,
     "metadata": {},
     "output_type": "execute_result"
    }
   ],
   "source": [
    "df.head()"
   ]
  },
  {
   "cell_type": "code",
   "execution_count": 6,
   "metadata": {},
   "outputs": [],
   "source": [
    "return_ = train.iloc[:, 57:]\n",
    "returnTest = test.iloc[:, 57:]"
   ]
  },
  {
   "cell_type": "code",
   "execution_count": 7,
   "metadata": {},
   "outputs": [
    {
     "data": {
      "text/html": [
       "<div>\n",
       "<style scoped>\n",
       "    .dataframe tbody tr th:only-of-type {\n",
       "        vertical-align: middle;\n",
       "    }\n",
       "\n",
       "    .dataframe tbody tr th {\n",
       "        vertical-align: top;\n",
       "    }\n",
       "\n",
       "    .dataframe thead th {\n",
       "        text-align: right;\n",
       "    }\n",
       "</style>\n",
       "<table border=\"1\" class=\"dataframe\">\n",
       "  <thead>\n",
       "    <tr style=\"text-align: right;\">\n",
       "      <th></th>\n",
       "      <th>return 09:30:00</th>\n",
       "      <th>return 09:35:00</th>\n",
       "      <th>return 09:40:00</th>\n",
       "      <th>return 09:45:00</th>\n",
       "      <th>return 09:50:00</th>\n",
       "      <th>return 09:55:00</th>\n",
       "      <th>return 10:00:00</th>\n",
       "      <th>return 10:05:00</th>\n",
       "      <th>return 10:10:00</th>\n",
       "      <th>return 10:15:00</th>\n",
       "      <th>...</th>\n",
       "      <th>return 13:10:00</th>\n",
       "      <th>return 13:15:00</th>\n",
       "      <th>return 13:20:00</th>\n",
       "      <th>return 13:25:00</th>\n",
       "      <th>return 13:30:00</th>\n",
       "      <th>return 13:35:00</th>\n",
       "      <th>return 13:40:00</th>\n",
       "      <th>return 13:45:00</th>\n",
       "      <th>return 13:50:00</th>\n",
       "      <th>return 13:55:00</th>\n",
       "    </tr>\n",
       "  </thead>\n",
       "  <tbody>\n",
       "    <tr>\n",
       "      <th>0</th>\n",
       "      <td>-1.0</td>\n",
       "      <td>-1.0</td>\n",
       "      <td>-1.0</td>\n",
       "      <td>-1.0</td>\n",
       "      <td>1.0</td>\n",
       "      <td>-1.0</td>\n",
       "      <td>1.0</td>\n",
       "      <td>1.0</td>\n",
       "      <td>-1.0</td>\n",
       "      <td>-1.0</td>\n",
       "      <td>...</td>\n",
       "      <td>1.0</td>\n",
       "      <td>1.0</td>\n",
       "      <td>1.0</td>\n",
       "      <td>-1.0</td>\n",
       "      <td>1.0</td>\n",
       "      <td>-1.0</td>\n",
       "      <td>0.0</td>\n",
       "      <td>1.0</td>\n",
       "      <td>1.0</td>\n",
       "      <td>-1.0</td>\n",
       "    </tr>\n",
       "    <tr>\n",
       "      <th>1</th>\n",
       "      <td>1.0</td>\n",
       "      <td>1.0</td>\n",
       "      <td>1.0</td>\n",
       "      <td>0.0</td>\n",
       "      <td>-1.0</td>\n",
       "      <td>-1.0</td>\n",
       "      <td>1.0</td>\n",
       "      <td>-1.0</td>\n",
       "      <td>1.0</td>\n",
       "      <td>1.0</td>\n",
       "      <td>...</td>\n",
       "      <td>1.0</td>\n",
       "      <td>1.0</td>\n",
       "      <td>1.0</td>\n",
       "      <td>1.0</td>\n",
       "      <td>1.0</td>\n",
       "      <td>-1.0</td>\n",
       "      <td>-1.0</td>\n",
       "      <td>1.0</td>\n",
       "      <td>-1.0</td>\n",
       "      <td>-1.0</td>\n",
       "    </tr>\n",
       "    <tr>\n",
       "      <th>2</th>\n",
       "      <td>-1.0</td>\n",
       "      <td>-1.0</td>\n",
       "      <td>1.0</td>\n",
       "      <td>1.0</td>\n",
       "      <td>1.0</td>\n",
       "      <td>-1.0</td>\n",
       "      <td>1.0</td>\n",
       "      <td>1.0</td>\n",
       "      <td>1.0</td>\n",
       "      <td>-1.0</td>\n",
       "      <td>...</td>\n",
       "      <td>1.0</td>\n",
       "      <td>1.0</td>\n",
       "      <td>-1.0</td>\n",
       "      <td>-1.0</td>\n",
       "      <td>1.0</td>\n",
       "      <td>1.0</td>\n",
       "      <td>-1.0</td>\n",
       "      <td>1.0</td>\n",
       "      <td>1.0</td>\n",
       "      <td>1.0</td>\n",
       "    </tr>\n",
       "    <tr>\n",
       "      <th>3</th>\n",
       "      <td>-1.0</td>\n",
       "      <td>1.0</td>\n",
       "      <td>-1.0</td>\n",
       "      <td>-1.0</td>\n",
       "      <td>1.0</td>\n",
       "      <td>-1.0</td>\n",
       "      <td>-1.0</td>\n",
       "      <td>1.0</td>\n",
       "      <td>1.0</td>\n",
       "      <td>-1.0</td>\n",
       "      <td>...</td>\n",
       "      <td>-1.0</td>\n",
       "      <td>1.0</td>\n",
       "      <td>1.0</td>\n",
       "      <td>0.0</td>\n",
       "      <td>1.0</td>\n",
       "      <td>-1.0</td>\n",
       "      <td>-1.0</td>\n",
       "      <td>-1.0</td>\n",
       "      <td>-1.0</td>\n",
       "      <td>1.0</td>\n",
       "    </tr>\n",
       "    <tr>\n",
       "      <th>4</th>\n",
       "      <td>1.0</td>\n",
       "      <td>-1.0</td>\n",
       "      <td>0.0</td>\n",
       "      <td>1.0</td>\n",
       "      <td>0.0</td>\n",
       "      <td>-1.0</td>\n",
       "      <td>-1.0</td>\n",
       "      <td>-1.0</td>\n",
       "      <td>1.0</td>\n",
       "      <td>1.0</td>\n",
       "      <td>...</td>\n",
       "      <td>-1.0</td>\n",
       "      <td>1.0</td>\n",
       "      <td>1.0</td>\n",
       "      <td>0.0</td>\n",
       "      <td>1.0</td>\n",
       "      <td>0.0</td>\n",
       "      <td>-1.0</td>\n",
       "      <td>-1.0</td>\n",
       "      <td>-1.0</td>\n",
       "      <td>0.0</td>\n",
       "    </tr>\n",
       "  </tbody>\n",
       "</table>\n",
       "<p>5 rows × 54 columns</p>\n",
       "</div>"
      ],
      "text/plain": [
       "   return 09:30:00  return 09:35:00  return 09:40:00  return 09:45:00  \\\n",
       "0             -1.0             -1.0             -1.0             -1.0   \n",
       "1              1.0              1.0              1.0              0.0   \n",
       "2             -1.0             -1.0              1.0              1.0   \n",
       "3             -1.0              1.0             -1.0             -1.0   \n",
       "4              1.0             -1.0              0.0              1.0   \n",
       "\n",
       "   return 09:50:00  return 09:55:00  return 10:00:00  return 10:05:00  \\\n",
       "0              1.0             -1.0              1.0              1.0   \n",
       "1             -1.0             -1.0              1.0             -1.0   \n",
       "2              1.0             -1.0              1.0              1.0   \n",
       "3              1.0             -1.0             -1.0              1.0   \n",
       "4              0.0             -1.0             -1.0             -1.0   \n",
       "\n",
       "   return 10:10:00  return 10:15:00       ...         return 13:10:00  \\\n",
       "0             -1.0             -1.0       ...                     1.0   \n",
       "1              1.0              1.0       ...                     1.0   \n",
       "2              1.0             -1.0       ...                     1.0   \n",
       "3              1.0             -1.0       ...                    -1.0   \n",
       "4              1.0              1.0       ...                    -1.0   \n",
       "\n",
       "   return 13:15:00  return 13:20:00  return 13:25:00  return 13:30:00  \\\n",
       "0              1.0              1.0             -1.0              1.0   \n",
       "1              1.0              1.0              1.0              1.0   \n",
       "2              1.0             -1.0             -1.0              1.0   \n",
       "3              1.0              1.0              0.0              1.0   \n",
       "4              1.0              1.0              0.0              1.0   \n",
       "\n",
       "   return 13:35:00  return 13:40:00  return 13:45:00  return 13:50:00  \\\n",
       "0             -1.0              0.0              1.0              1.0   \n",
       "1             -1.0             -1.0              1.0             -1.0   \n",
       "2              1.0             -1.0              1.0              1.0   \n",
       "3             -1.0             -1.0             -1.0             -1.0   \n",
       "4              0.0             -1.0             -1.0             -1.0   \n",
       "\n",
       "   return 13:55:00  \n",
       "0             -1.0  \n",
       "1             -1.0  \n",
       "2              1.0  \n",
       "3              1.0  \n",
       "4              0.0  \n",
       "\n",
       "[5 rows x 54 columns]"
      ]
     },
     "execution_count": 7,
     "metadata": {},
     "output_type": "execute_result"
    }
   ],
   "source": [
    "return_.head()"
   ]
  },
  {
   "cell_type": "code",
   "execution_count": 8,
   "metadata": {},
   "outputs": [
    {
     "data": {
      "text/html": [
       "<div>\n",
       "<style scoped>\n",
       "    .dataframe tbody tr th:only-of-type {\n",
       "        vertical-align: middle;\n",
       "    }\n",
       "\n",
       "    .dataframe tbody tr th {\n",
       "        vertical-align: top;\n",
       "    }\n",
       "\n",
       "    .dataframe thead th {\n",
       "        text-align: right;\n",
       "    }\n",
       "</style>\n",
       "<table border=\"1\" class=\"dataframe\">\n",
       "  <thead>\n",
       "    <tr style=\"text-align: right;\">\n",
       "      <th></th>\n",
       "      <th>volatility 09:30:00</th>\n",
       "      <th>volatility 09:35:00</th>\n",
       "      <th>volatility 09:40:00</th>\n",
       "      <th>volatility 09:45:00</th>\n",
       "      <th>volatility 09:50:00</th>\n",
       "      <th>volatility 09:55:00</th>\n",
       "      <th>volatility 10:00:00</th>\n",
       "      <th>volatility 10:05:00</th>\n",
       "      <th>volatility 10:10:00</th>\n",
       "      <th>volatility 10:15:00</th>\n",
       "      <th>...</th>\n",
       "      <th>volatility 13:10:00</th>\n",
       "      <th>volatility 13:15:00</th>\n",
       "      <th>volatility 13:20:00</th>\n",
       "      <th>volatility 13:25:00</th>\n",
       "      <th>volatility 13:30:00</th>\n",
       "      <th>volatility 13:35:00</th>\n",
       "      <th>volatility 13:40:00</th>\n",
       "      <th>volatility 13:45:00</th>\n",
       "      <th>volatility 13:50:00</th>\n",
       "      <th>volatility 13:55:00</th>\n",
       "    </tr>\n",
       "  </thead>\n",
       "  <tbody>\n",
       "    <tr>\n",
       "      <th>0</th>\n",
       "      <td>0.662737</td>\n",
       "      <td>0.716896</td>\n",
       "      <td>0.698601</td>\n",
       "      <td>0.480172</td>\n",
       "      <td>0.623665</td>\n",
       "      <td>0.201876</td>\n",
       "      <td>0.327206</td>\n",
       "      <td>0.374239</td>\n",
       "      <td>0.207611</td>\n",
       "      <td>0.213038</td>\n",
       "      <td>...</td>\n",
       "      <td>0.115572</td>\n",
       "      <td>0.230885</td>\n",
       "      <td>0.062962</td>\n",
       "      <td>0.274345</td>\n",
       "      <td>0.393201</td>\n",
       "      <td>0.078658</td>\n",
       "      <td>0.041951</td>\n",
       "      <td>0.115287</td>\n",
       "      <td>0.136218</td>\n",
       "      <td>0.052386</td>\n",
       "    </tr>\n",
       "    <tr>\n",
       "      <th>1</th>\n",
       "      <td>0.285394</td>\n",
       "      <td>0.379560</td>\n",
       "      <td>0.094858</td>\n",
       "      <td>0.094794</td>\n",
       "      <td>0.055315</td>\n",
       "      <td>0.173994</td>\n",
       "      <td>0.102745</td>\n",
       "      <td>0.079102</td>\n",
       "      <td>0.047445</td>\n",
       "      <td>0.071119</td>\n",
       "      <td>...</td>\n",
       "      <td>0.031630</td>\n",
       "      <td>0.079048</td>\n",
       "      <td>0.071119</td>\n",
       "      <td>0.078995</td>\n",
       "      <td>0.220849</td>\n",
       "      <td>0.142118</td>\n",
       "      <td>0.039484</td>\n",
       "      <td>0.055287</td>\n",
       "      <td>0.059276</td>\n",
       "      <td>0.071155</td>\n",
       "    </tr>\n",
       "    <tr>\n",
       "      <th>2</th>\n",
       "      <td>1.151646</td>\n",
       "      <td>1.093562</td>\n",
       "      <td>1.833443</td>\n",
       "      <td>0.595823</td>\n",
       "      <td>0.310177</td>\n",
       "      <td>0.792310</td>\n",
       "      <td>0.401979</td>\n",
       "      <td>0.336490</td>\n",
       "      <td>0.619155</td>\n",
       "      <td>0.504735</td>\n",
       "      <td>...</td>\n",
       "      <td>0.118179</td>\n",
       "      <td>0.275287</td>\n",
       "      <td>0.249349</td>\n",
       "      <td>0.262916</td>\n",
       "      <td>0.341119</td>\n",
       "      <td>0.170464</td>\n",
       "      <td>0.275906</td>\n",
       "      <td>0.196799</td>\n",
       "      <td>0.111488</td>\n",
       "      <td>0.117980</td>\n",
       "    </tr>\n",
       "    <tr>\n",
       "      <th>3</th>\n",
       "      <td>0.835260</td>\n",
       "      <td>0.329615</td>\n",
       "      <td>0.340366</td>\n",
       "      <td>0.216692</td>\n",
       "      <td>0.350371</td>\n",
       "      <td>0.247594</td>\n",
       "      <td>0.341194</td>\n",
       "      <td>0.175573</td>\n",
       "      <td>0.278420</td>\n",
       "      <td>0.113430</td>\n",
       "      <td>...</td>\n",
       "      <td>0.041458</td>\n",
       "      <td>0.217509</td>\n",
       "      <td>0.103530</td>\n",
       "      <td>0.031052</td>\n",
       "      <td>0.217124</td>\n",
       "      <td>0.186312</td>\n",
       "      <td>0.051811</td>\n",
       "      <td>0.093239</td>\n",
       "      <td>0.082934</td>\n",
       "      <td>0.155294</td>\n",
       "    </tr>\n",
       "    <tr>\n",
       "      <th>4</th>\n",
       "      <td>0.274185</td>\n",
       "      <td>0.061076</td>\n",
       "      <td>0.010168</td>\n",
       "      <td>0.060890</td>\n",
       "      <td>0.000000</td>\n",
       "      <td>0.213162</td>\n",
       "      <td>0.162763</td>\n",
       "      <td>0.203675</td>\n",
       "      <td>0.456380</td>\n",
       "      <td>0.303923</td>\n",
       "      <td>...</td>\n",
       "      <td>0.071567</td>\n",
       "      <td>0.275442</td>\n",
       "      <td>0.081595</td>\n",
       "      <td>0.020390</td>\n",
       "      <td>0.162940</td>\n",
       "      <td>0.040744</td>\n",
       "      <td>0.122338</td>\n",
       "      <td>0.050963</td>\n",
       "      <td>0.112193</td>\n",
       "      <td>0.000000</td>\n",
       "    </tr>\n",
       "  </tbody>\n",
       "</table>\n",
       "<p>5 rows × 54 columns</p>\n",
       "</div>"
      ],
      "text/plain": [
       "   volatility 09:30:00  volatility 09:35:00  volatility 09:40:00  \\\n",
       "0             0.662737             0.716896             0.698601   \n",
       "1             0.285394             0.379560             0.094858   \n",
       "2             1.151646             1.093562             1.833443   \n",
       "3             0.835260             0.329615             0.340366   \n",
       "4             0.274185             0.061076             0.010168   \n",
       "\n",
       "   volatility 09:45:00  volatility 09:50:00  volatility 09:55:00  \\\n",
       "0             0.480172             0.623665             0.201876   \n",
       "1             0.094794             0.055315             0.173994   \n",
       "2             0.595823             0.310177             0.792310   \n",
       "3             0.216692             0.350371             0.247594   \n",
       "4             0.060890             0.000000             0.213162   \n",
       "\n",
       "   volatility 10:00:00  volatility 10:05:00  volatility 10:10:00  \\\n",
       "0             0.327206             0.374239             0.207611   \n",
       "1             0.102745             0.079102             0.047445   \n",
       "2             0.401979             0.336490             0.619155   \n",
       "3             0.341194             0.175573             0.278420   \n",
       "4             0.162763             0.203675             0.456380   \n",
       "\n",
       "   volatility 10:15:00         ...           volatility 13:10:00  \\\n",
       "0             0.213038         ...                      0.115572   \n",
       "1             0.071119         ...                      0.031630   \n",
       "2             0.504735         ...                      0.118179   \n",
       "3             0.113430         ...                      0.041458   \n",
       "4             0.303923         ...                      0.071567   \n",
       "\n",
       "   volatility 13:15:00  volatility 13:20:00  volatility 13:25:00  \\\n",
       "0             0.230885             0.062962             0.274345   \n",
       "1             0.079048             0.071119             0.078995   \n",
       "2             0.275287             0.249349             0.262916   \n",
       "3             0.217509             0.103530             0.031052   \n",
       "4             0.275442             0.081595             0.020390   \n",
       "\n",
       "   volatility 13:30:00  volatility 13:35:00  volatility 13:40:00  \\\n",
       "0             0.393201             0.078658             0.041951   \n",
       "1             0.220849             0.142118             0.039484   \n",
       "2             0.341119             0.170464             0.275906   \n",
       "3             0.217124             0.186312             0.051811   \n",
       "4             0.162940             0.040744             0.122338   \n",
       "\n",
       "   volatility 13:45:00  volatility 13:50:00  volatility 13:55:00  \n",
       "0             0.115287             0.136218             0.052386  \n",
       "1             0.055287             0.059276             0.071155  \n",
       "2             0.196799             0.111488             0.117980  \n",
       "3             0.093239             0.082934             0.155294  \n",
       "4             0.050963             0.112193             0.000000  \n",
       "\n",
       "[5 rows x 54 columns]"
      ]
     },
     "execution_count": 8,
     "metadata": {},
     "output_type": "execute_result"
    }
   ],
   "source": [
    "volatility = train.iloc[:,3:57]\n",
    "volatilityTest=test.iloc[:,3:57]\n",
    "volatility.head()"
   ]
  },
  {
   "cell_type": "code",
   "execution_count": 9,
   "metadata": {},
   "outputs": [],
   "source": [
    "# double passe sur la serie - reecrire\n",
    "def count_NA(s):\n",
    "    result = 0\n",
    "    if s.isna().any():\n",
    "        result = s.value_counts(dropna=False).loc[np.nan]\n",
    "        \n",
    "    return result\n",
    "\n",
    "def count_ones(s):\n",
    "    result = 0\n",
    "    if (1 in s.unique()):\n",
    "        result = s.value_counts().loc[1]\n",
    "    return result\n",
    "\n",
    "def count_zeros(s):\n",
    "    result = 0\n",
    "    if (0 in s.unique()):\n",
    "        result = s.value_counts().loc[0]\n",
    "    return result\n",
    "\n",
    "def count_minus(s):\n",
    "    result = 0\n",
    "    if (-1 in s.unique()):\n",
    "        result = s.value_counts().loc[-1]\n",
    "    return result\n",
    "\n"
   ]
  },
  {
   "cell_type": "code",
   "execution_count": null,
   "metadata": {},
   "outputs": [],
   "source": []
  },
  {
   "cell_type": "code",
   "execution_count": 10,
   "metadata": {},
   "outputs": [],
   "source": [
    "return_sum = return_.sum(axis=1)"
   ]
  },
  {
   "cell_type": "code",
   "execution_count": 11,
   "metadata": {},
   "outputs": [
    {
     "data": {
      "text/plain": [
       "Text(0,0.5,'#')"
      ]
     },
     "execution_count": 11,
     "metadata": {},
     "output_type": "execute_result"
    },
    {
     "data": {
      "image/png": "[encoded data removed]",
      "text/plain": [
       "<Figure size 432x288 with 1 Axes>"
      ]
     },
     "metadata": {},
     "output_type": "display_data"
    }
   ],
   "source": [
    "plt.hist(return_sum)\n",
    "plt.title(\"return sum\")\n",
    "plt.xlabel(\"rows return sum \")\n",
    "plt.ylabel(\"#\")\n",
    "#plt.yscale('log', nonposy='clip')"
   ]
  },
  {
   "cell_type": "code",
   "execution_count": 12,
   "metadata": {},
   "outputs": [],
   "source": [
    "return_abssum = np.abs(return_).sum(axis=1)"
   ]
  },
  {
   "cell_type": "code",
   "execution_count": 13,
   "metadata": {},
   "outputs": [
    {
     "data": {
      "text/plain": [
       "Text(0,0.5,'#')"
      ]
     },
     "execution_count": 13,
     "metadata": {},
     "output_type": "execute_result"
    },
    {
     "data": {
      "image/png": "[encoded data removed]",
      "text/plain": [
       "<Figure size 432x288 with 1 Axes>"
      ]
     },
     "metadata": {},
     "output_type": "display_data"
    }
   ],
   "source": [
    "plt.hist(return_abssum)\n",
    "plt.title(\"return sum of return absolute value\")\n",
    "#plt.xlabel(\"rows return sum \")\n",
    "plt.ylabel(\"#\")\n",
    "#plt.yscale('log', nonposy='clip')"
   ]
  },
  {
   "cell_type": "code",
   "execution_count": 14,
   "metadata": {},
   "outputs": [
    {
     "data": {
      "text/plain": [
       "Index(['date', 'product_id', 'volatility 09:30:00', 'volatility 09:35:00',\n",
       "       'volatility 09:40:00', 'volatility 09:45:00', 'volatility 09:50:00',\n",
       "       'volatility 09:55:00', 'volatility 10:00:00', 'volatility 10:05:00',\n",
       "       'volatility 10:10:00', 'volatility 10:15:00', 'volatility 10:20:00',\n",
       "       'volatility 10:25:00', 'volatility 10:30:00', 'volatility 10:35:00',\n",
       "       'volatility 10:40:00', 'volatility 10:45:00', 'volatility 10:50:00',\n",
       "       'volatility 10:55:00', 'volatility 11:00:00', 'volatility 11:05:00',\n",
       "       'volatility 11:10:00', 'volatility 11:15:00', 'volatility 11:20:00',\n",
       "       'volatility 11:25:00', 'volatility 11:30:00', 'volatility 11:35:00',\n",
       "       'volatility 11:40:00', 'volatility 11:45:00', 'volatility 11:50:00',\n",
       "       'volatility 11:55:00', 'volatility 12:00:00', 'volatility 12:05:00',\n",
       "       'volatility 12:10:00', 'volatility 12:15:00', 'volatility 12:20:00',\n",
       "       'volatility 12:25:00', 'volatility 12:30:00', 'volatility 12:35:00',\n",
       "       'volatility 12:40:00', 'volatility 12:45:00', 'volatility 12:50:00',\n",
       "       'volatility 12:55:00', 'volatility 13:00:00', 'volatility 13:05:00',\n",
       "       'volatility 13:10:00', 'volatility 13:15:00', 'volatility 13:20:00',\n",
       "       'volatility 13:25:00', 'volatility 13:30:00', 'volatility 13:35:00',\n",
       "       'volatility 13:40:00', 'volatility 13:45:00', 'volatility 13:50:00',\n",
       "       'volatility 13:55:00'],\n",
       "      dtype='object')"
      ]
     },
     "execution_count": 14,
     "metadata": {},
     "output_type": "execute_result"
    }
   ],
   "source": [
    "train.iloc[:,1:57].columns"
   ]
  },
  {
   "cell_type": "code",
   "execution_count": 15,
   "metadata": {},
   "outputs": [],
   "source": [
    "#add to ids and volatility \n",
    "#  % of NA in volatility\n",
    "#  % of 1, 0, -1 in return \n",
    "# sum and sum of absolute values of return \n",
    "\n",
    "def build_features_1(df):\n",
    "    return_ = df.iloc[:, 57:]\n",
    "    volatility = df.iloc[:,3:57]\n",
    "    result= df.iloc[:,:57].copy()\n",
    "    #feature NA count\n",
    "    lna=[]\n",
    "    lones=[]\n",
    "    lzeros =[]\n",
    "    lminus =[]\n",
    "    for i in df.index:\n",
    "        v = count_NA(volatility.iloc[i, :])/volatility.shape[1]\n",
    "        lna.append(v)\n",
    "        lones.append(count_ones(return_.iloc[i, :])/return_.shape[1])\n",
    "        lzeros.append(count_zeros(return_.iloc[i, :])/return_.shape[1])\n",
    "        lminus.append(count_minus(return_.iloc[i, :])/return_.shape[1])\n",
    "        if (i % (round(volatility.shape[0]/10)) ==0):\n",
    "            print(i, \"tenth of first part completed\")\n",
    "    \n",
    "    result[\"NA\"]=pd.Series(lna)\n",
    "    result[\"return_ones\"] = pd.Series(lones)\n",
    "    result[\"return_zeros\"] = pd.Series(lzeros)\n",
    "    result[\"return_minusones\"] = pd.Series(lminus)\n",
    "    \n",
    "    # features return sum and sum of the absolute values \n",
    "    result[\"return_sum\"]=  return_.sum(axis=1)\n",
    "    result[\"return_abssum\"] = np.abs(return_).sum(axis=1)\n",
    "\n",
    "    return result\n",
    "    "
   ]
  },
  {
   "cell_type": "code",
   "execution_count": 16,
   "metadata": {},
   "outputs": [
    {
     "name": "stdout",
     "output_type": "stream",
     "text": [
      "0 tenth of first part completed\n",
      "63631 tenth of first part completed\n",
      "127262 tenth of first part completed\n",
      "190893 tenth of first part completed\n",
      "254524 tenth of first part completed\n",
      "318155 tenth of first part completed\n",
      "381786 tenth of first part completed\n",
      "445417 tenth of first part completed\n",
      "509048 tenth of first part completed\n",
      "572679 tenth of first part completed\n",
      "636310 tenth of first part completed\n"
     ]
    }
   ],
   "source": [
    "fdf = build_features_1(df)"
   ]
  },
  {
   "cell_type": "code",
   "execution_count": 17,
   "metadata": {
    "scrolled": true
   },
   "outputs": [
    {
     "data": {
      "image/png": "[encoded data removed]",
      "text/plain": [
       "<Figure size 432x288 with 1 Axes>"
      ]
     },
     "metadata": {},
     "output_type": "display_data"
    },
    {
     "data": {
      "image/png": "[encoded data removed]",
      "text/plain": [
       "<Figure size 432x288 with 1 Axes>"
      ]
     },
     "metadata": {},
     "output_type": "display_data"
    },
    {
     "data": {
      "image/png": "[encoded data removed]",
      "text/plain": [
       "<Figure size 432x288 with 1 Axes>"
      ]
     },
     "metadata": {},
     "output_type": "display_data"
    },
    {
     "data": {
      "image/png": "[encoded data removed]",
      "text/plain": [
       "<Figure size 432x288 with 1 Axes>"
      ]
     },
     "metadata": {},
     "output_type": "display_data"
    },
    {
     "data": {
      "image/png": "[encoded data removed]",
      "text/plain": [
       "<Figure size 432x288 with 1 Axes>"
      ]
     },
     "metadata": {},
     "output_type": "display_data"
    },
    {
     "data": {
      "image/png": "[encoded data removed]",
      "text/plain": [
       "<Figure size 432x288 with 1 Axes>"
      ]
     },
     "metadata": {},
     "output_type": "display_data"
    }
   ],
   "source": [
    "plt.hist(fdf[\"NA\"])\n",
    "plt.title(\"nan occurence in rows in train volatility (%)\")\n",
    "plt.xlabel(\"% of NaN\")\n",
    "plt.ylabel(\" log Frequency\")\n",
    "plt.yscale('log', nonposy='clip')\n",
    "plt.show()\n",
    "\n",
    "plt.hist(fdf[\"return_ones\"])\n",
    "plt.title(\"1 occurences in return (%)\")\n",
    "plt.ylabel(\" log Frequency\")\n",
    "plt.yscale('log', nonposy='clip')\n",
    "plt.show()\n",
    "\n",
    "plt.hist(fdf[\"return_zeros\"])\n",
    "plt.title(\"0 occurences in return (%)\")\n",
    "plt.ylabel(\" log Frequency\")\n",
    "plt.yscale('log', nonposy='clip')\n",
    "plt.show()\n",
    "\n",
    "plt.hist(fdf[\"return_minusones\"])\n",
    "plt.title(\"-1 occurences in return (%)\")\n",
    "plt.ylabel(\"log Frequency\")\n",
    "plt.yscale('log', nonposy='clip')\n",
    "plt.show()\n",
    "\n",
    "\n",
    "plt.hist(fdf[\"return_sum\"])\n",
    "plt.title(\"return sum\")\n",
    "plt.xlabel(\"rows return sum \")\n",
    "plt.ylabel(\"#\")\n",
    "plt.show()\n",
    "\n",
    "plt.hist(fdf[\"return_abssum\"])\n",
    "plt.title(\"return sum of return absolute value\")\n",
    "#plt.xlabel(\"rows return sum \")\n",
    "plt.ylabel(\"#\")\n",
    "#plt.yscale('log', nonposy='clip')\n",
    "plt.show()\n"
   ]
  },
  {
   "cell_type": "markdown",
   "metadata": {},
   "source": [
    "#### trying  straighforward xgboost on volatility + new features (build_features_1)"
   ]
  },
  {
   "cell_type": "code",
   "execution_count": 18,
   "metadata": {},
   "outputs": [
    {
     "data": {
      "text/plain": [
       "Index(['ID', 'date', 'product_id', 'volatility 09:30:00',\n",
       "       'volatility 09:35:00', 'volatility 09:40:00', 'volatility 09:45:00',\n",
       "       'volatility 09:50:00', 'volatility 09:55:00', 'volatility 10:00:00',\n",
       "       'volatility 10:05:00', 'volatility 10:10:00', 'volatility 10:15:00',\n",
       "       'volatility 10:20:00', 'volatility 10:25:00', 'volatility 10:30:00',\n",
       "       'volatility 10:35:00', 'volatility 10:40:00', 'volatility 10:45:00',\n",
       "       'volatility 10:50:00', 'volatility 10:55:00', 'volatility 11:00:00',\n",
       "       'volatility 11:05:00', 'volatility 11:10:00', 'volatility 11:15:00',\n",
       "       'volatility 11:20:00', 'volatility 11:25:00', 'volatility 11:30:00',\n",
       "       'volatility 11:35:00', 'volatility 11:40:00', 'volatility 11:45:00',\n",
       "       'volatility 11:50:00', 'volatility 11:55:00', 'volatility 12:00:00',\n",
       "       'volatility 12:05:00', 'volatility 12:10:00', 'volatility 12:15:00',\n",
       "       'volatility 12:20:00', 'volatility 12:25:00', 'volatility 12:30:00',\n",
       "       'volatility 12:35:00', 'volatility 12:40:00', 'volatility 12:45:00',\n",
       "       'volatility 12:50:00', 'volatility 12:55:00', 'volatility 13:00:00',\n",
       "       'volatility 13:05:00', 'volatility 13:10:00', 'volatility 13:15:00',\n",
       "       'volatility 13:20:00', 'volatility 13:25:00', 'volatility 13:30:00',\n",
       "       'volatility 13:35:00', 'volatility 13:40:00', 'volatility 13:45:00',\n",
       "       'volatility 13:50:00', 'volatility 13:55:00', 'NA', 'return_ones',\n",
       "       'return_zeros', 'return_minusones', 'return_sum', 'return_abssum'],\n",
       "      dtype='object')"
      ]
     },
     "execution_count": 18,
     "metadata": {},
     "output_type": "execute_result"
    }
   ],
   "source": [
    "fdf.columns"
   ]
  },
  {
   "cell_type": "code",
   "execution_count": 19,
   "metadata": {},
   "outputs": [],
   "source": [
    "#training, valid  = train_test_split(pd.concat([fdf, output[\"TARGET\"]], axis=1), test_size=0.2, random_state=42, stratify=fdf.iloc[:,1:2])\n",
    "#df= pd.concat([train, output[\"TARGET\"]], axis=1)\n",
    "#df=fdf\n",
    "df= pd.concat([fdf, output[\"TARGET\"]], axis=1)\n",
    "valid = df[df.date>=1563]\n",
    "training = df[df.date<1563]"
   ]
  },
  {
   "cell_type": "code",
   "execution_count": 20,
   "metadata": {},
   "outputs": [],
   "source": [
    "X = training.iloc[:,1:56]\n",
    "y = training.iloc[:,-1]\n",
    "\n",
    "X_valid = valid.iloc[:,1:56]\n",
    "y_true = valid.iloc[:,-1]\n",
    "logy = np.log(y)\n",
    "\n"
   ]
  },
  {
   "cell_type": "code",
   "execution_count": 21,
   "metadata": {},
   "outputs": [],
   "source": [
    "def MAPE(y_true, y_pred):\n",
    "    return np.mean(np.abs((y_true - y_pred) / y_true)) * 100\n",
    "def MAPE_residus(y_true, y_pred):\n",
    "    return np.abs((y_true - y_pred) / y_true)"
   ]
  },
  {
   "cell_type": "code",
   "execution_count": 22,
   "metadata": {
    "scrolled": true
   },
   "outputs": [
    {
     "name": "stdout",
     "output_type": "stream",
     "text": [
      "mape valid:    50 26.21492711358825\n",
      "mape training: 50 26.38369066053492\n",
      "delta -0.16876354694667128\n",
      "--------------\n",
      "mape valid:    60 26.351380453826263\n",
      "mape training: 60 25.893508347718164\n",
      "delta 0.45787210610809836\n",
      "--------------\n",
      "mape valid:    70 26.403752424637016\n",
      "mape training: 70 25.657353492759917\n",
      "delta 0.7463989318770992\n",
      "--------------\n",
      "mape valid:    80 26.61270385073472\n",
      "mape training: 80 25.525200921083513\n",
      "delta 1.0875029296512082\n",
      "--------------\n",
      "mape valid:    90 26.36877106406599\n",
      "mape training: 90 25.42780166822113\n",
      "delta 0.94096939584486\n",
      "--------------\n",
      "mape valid:    100 26.235757499596346\n",
      "mape training: 100 25.353222887851768\n",
      "delta 0.8825346117445783\n",
      "--------------\n",
      "mape valid:    110 26.19135048117479\n",
      "mape training: 110 25.28396283965092\n",
      "delta 0.9073876415238722\n",
      "--------------\n",
      "mape valid:    120 26.189075488619668\n",
      "mape training: 120 25.226187013634295\n",
      "delta 0.9628884749853732\n",
      "--------------\n",
      "mape valid:    130 26.23821143000947\n",
      "mape training: 130 25.177711529810846\n",
      "delta 1.060499900198625\n",
      "--------------\n",
      "mape valid:    140 26.31710034418024\n",
      "mape training: 140 25.131333155830593\n",
      "delta 1.1857671883496472\n",
      "--------------\n",
      "mape valid:    150 26.356867000540102\n",
      "mape training: 150 25.084763516199647\n",
      "delta 1.2721034843404553\n",
      "--------------\n",
      "mape valid:    160 26.472261285502736\n",
      "mape training: 160 25.016644138642885\n",
      "delta 1.4556171468598507\n",
      "--------------\n",
      "mape valid:    170 26.44776286302713\n",
      "mape training: 170 24.95586718535533\n",
      "delta 1.491895677671799\n",
      "--------------\n",
      "mape valid:    180 26.389608896465216\n",
      "mape training: 180 24.912416241629455\n",
      "delta 1.4771926548357612\n",
      "--------------\n",
      "mape valid:    190 26.34236751070269\n",
      "mape training: 190 24.869953899737023\n",
      "delta 1.472413610965667\n",
      "--------------\n",
      "mape valid:    200 26.30122726515381\n",
      "mape training: 200 24.839771009229498\n",
      "delta 1.4614562559243112\n",
      "--------------\n",
      "Wall time: 23min\n"
     ]
    }
   ],
   "source": [
    "%%time\n",
    "Lm = []\n",
    "Lt= []\n",
    "Ld = []\n",
    "r = range(50, 210, 10)\n",
    "for i in r:    \n",
    "    xbr= xgb.XGBRegressor(max_depth=3, learning_rate=0.1, n_estimators=i,  subsample=1,  \n",
    "                       random_state=42, n_jobs=-1)\n",
    "    xbr.fit(X, logy)\n",
    "\n",
    "    logy_pred = xbr.predict(X_valid)\n",
    "    y_pred = np.exp(logy_pred )\n",
    "    m= MAPE(y_true, y_pred)\n",
    "    logyt = xbr.predict(X)\n",
    "    yt = np.exp(logyt)\n",
    "    t= MAPE(y, yt)                \n",
    "    print(\"mape valid:    \"+ str(i), m)\n",
    "    print(\"mape training: \"+ str(i), t)\n",
    "    print(\"delta\", m-t)\n",
    "    print(\"--------------\")              \n",
    "    \n",
    "    Lm.append(m)\n",
    "    Lt.append(t)\n",
    "    Ld.append(m-t)"
   ]
  },
  {
   "cell_type": "code",
   "execution_count": 23,
   "metadata": {},
   "outputs": [
    {
     "data": {
      "image/png": "[encoded data removed]",
      "text/plain": [
       "<Figure size 432x288 with 1 Axes>"
      ]
     },
     "metadata": {},
     "output_type": "display_data"
    }
   ],
   "source": [
    "\n",
    "plt.plot(r, Lt, label = \"train\")\n",
    "plt.plot(r, Lm, label = \"valid\")\n",
    "plt.legend(loc='upper right')\n",
    "plt.show()\n",
    "\n"
   ]
  },
  {
   "cell_type": "code",
   "execution_count": 24,
   "metadata": {
    "scrolled": true
   },
   "outputs": [
    {
     "data": {
      "image/png": "[encoded data removed]",
      "text/plain": [
       "<Figure size 432x288 with 1 Axes>"
      ]
     },
     "metadata": {},
     "output_type": "display_data"
    },
    {
     "data": {
      "text/html": [
       "<div>\n",
       "<style scoped>\n",
       "    .dataframe tbody tr th:only-of-type {\n",
       "        vertical-align: middle;\n",
       "    }\n",
       "\n",
       "    .dataframe tbody tr th {\n",
       "        vertical-align: top;\n",
       "    }\n",
       "\n",
       "    .dataframe thead th {\n",
       "        text-align: right;\n",
       "    }\n",
       "</style>\n",
       "<table border=\"1\" class=\"dataframe\">\n",
       "  <thead>\n",
       "    <tr style=\"text-align: right;\">\n",
       "      <th></th>\n",
       "      <th>importance</th>\n",
       "    </tr>\n",
       "  </thead>\n",
       "  <tbody>\n",
       "    <tr>\n",
       "      <th>date</th>\n",
       "      <td>0.182143</td>\n",
       "    </tr>\n",
       "    <tr>\n",
       "      <th>volatility 13:50:00</th>\n",
       "      <td>0.070000</td>\n",
       "    </tr>\n",
       "    <tr>\n",
       "      <th>volatility 13:45:00</th>\n",
       "      <td>0.045714</td>\n",
       "    </tr>\n",
       "    <tr>\n",
       "      <th>volatility 13:35:00</th>\n",
       "      <td>0.032857</td>\n",
       "    </tr>\n",
       "    <tr>\n",
       "      <th>volatility 13:30:00</th>\n",
       "      <td>0.028571</td>\n",
       "    </tr>\n",
       "    <tr>\n",
       "      <th>volatility 13:40:00</th>\n",
       "      <td>0.025714</td>\n",
       "    </tr>\n",
       "    <tr>\n",
       "      <th>volatility 12:45:00</th>\n",
       "      <td>0.022857</td>\n",
       "    </tr>\n",
       "    <tr>\n",
       "      <th>volatility 13:25:00</th>\n",
       "      <td>0.021429</td>\n",
       "    </tr>\n",
       "    <tr>\n",
       "      <th>volatility 13:05:00</th>\n",
       "      <td>0.021429</td>\n",
       "    </tr>\n",
       "    <tr>\n",
       "      <th>volatility 09:30:00</th>\n",
       "      <td>0.017857</td>\n",
       "    </tr>\n",
       "    <tr>\n",
       "      <th>volatility 13:15:00</th>\n",
       "      <td>0.017857</td>\n",
       "    </tr>\n",
       "    <tr>\n",
       "      <th>volatility 13:10:00</th>\n",
       "      <td>0.017143</td>\n",
       "    </tr>\n",
       "    <tr>\n",
       "      <th>volatility 12:55:00</th>\n",
       "      <td>0.017143</td>\n",
       "    </tr>\n",
       "    <tr>\n",
       "      <th>volatility 13:20:00</th>\n",
       "      <td>0.016429</td>\n",
       "    </tr>\n",
       "    <tr>\n",
       "      <th>volatility 11:25:00</th>\n",
       "      <td>0.015000</td>\n",
       "    </tr>\n",
       "    <tr>\n",
       "      <th>volatility 09:40:00</th>\n",
       "      <td>0.015000</td>\n",
       "    </tr>\n",
       "    <tr>\n",
       "      <th>volatility 10:15:00</th>\n",
       "      <td>0.014286</td>\n",
       "    </tr>\n",
       "    <tr>\n",
       "      <th>volatility 12:00:00</th>\n",
       "      <td>0.014286</td>\n",
       "    </tr>\n",
       "    <tr>\n",
       "      <th>volatility 09:50:00</th>\n",
       "      <td>0.013571</td>\n",
       "    </tr>\n",
       "    <tr>\n",
       "      <th>volatility 12:20:00</th>\n",
       "      <td>0.013571</td>\n",
       "    </tr>\n",
       "    <tr>\n",
       "      <th>volatility 11:05:00</th>\n",
       "      <td>0.013571</td>\n",
       "    </tr>\n",
       "    <tr>\n",
       "      <th>volatility 12:40:00</th>\n",
       "      <td>0.012857</td>\n",
       "    </tr>\n",
       "    <tr>\n",
       "      <th>volatility 12:30:00</th>\n",
       "      <td>0.012857</td>\n",
       "    </tr>\n",
       "    <tr>\n",
       "      <th>volatility 12:15:00</th>\n",
       "      <td>0.012857</td>\n",
       "    </tr>\n",
       "    <tr>\n",
       "      <th>volatility 11:35:00</th>\n",
       "      <td>0.012857</td>\n",
       "    </tr>\n",
       "    <tr>\n",
       "      <th>volatility 10:30:00</th>\n",
       "      <td>0.012857</td>\n",
       "    </tr>\n",
       "    <tr>\n",
       "      <th>volatility 10:05:00</th>\n",
       "      <td>0.012857</td>\n",
       "    </tr>\n",
       "    <tr>\n",
       "      <th>volatility 11:10:00</th>\n",
       "      <td>0.012857</td>\n",
       "    </tr>\n",
       "    <tr>\n",
       "      <th>volatility 09:45:00</th>\n",
       "      <td>0.012143</td>\n",
       "    </tr>\n",
       "    <tr>\n",
       "      <th>volatility 09:35:00</th>\n",
       "      <td>0.012143</td>\n",
       "    </tr>\n",
       "    <tr>\n",
       "      <th>volatility 10:45:00</th>\n",
       "      <td>0.012143</td>\n",
       "    </tr>\n",
       "    <tr>\n",
       "      <th>volatility 10:55:00</th>\n",
       "      <td>0.012143</td>\n",
       "    </tr>\n",
       "    <tr>\n",
       "      <th>volatility 13:00:00</th>\n",
       "      <td>0.012143</td>\n",
       "    </tr>\n",
       "    <tr>\n",
       "      <th>volatility 11:20:00</th>\n",
       "      <td>0.011429</td>\n",
       "    </tr>\n",
       "    <tr>\n",
       "      <th>volatility 12:25:00</th>\n",
       "      <td>0.011429</td>\n",
       "    </tr>\n",
       "    <tr>\n",
       "      <th>volatility 12:50:00</th>\n",
       "      <td>0.011429</td>\n",
       "    </tr>\n",
       "    <tr>\n",
       "      <th>volatility 10:25:00</th>\n",
       "      <td>0.011429</td>\n",
       "    </tr>\n",
       "    <tr>\n",
       "      <th>volatility 10:40:00</th>\n",
       "      <td>0.010714</td>\n",
       "    </tr>\n",
       "    <tr>\n",
       "      <th>volatility 11:15:00</th>\n",
       "      <td>0.010714</td>\n",
       "    </tr>\n",
       "    <tr>\n",
       "      <th>volatility 11:50:00</th>\n",
       "      <td>0.010714</td>\n",
       "    </tr>\n",
       "    <tr>\n",
       "      <th>volatility 10:00:00</th>\n",
       "      <td>0.010000</td>\n",
       "    </tr>\n",
       "    <tr>\n",
       "      <th>volatility 10:35:00</th>\n",
       "      <td>0.010000</td>\n",
       "    </tr>\n",
       "    <tr>\n",
       "      <th>volatility 09:55:00</th>\n",
       "      <td>0.010000</td>\n",
       "    </tr>\n",
       "    <tr>\n",
       "      <th>volatility 10:20:00</th>\n",
       "      <td>0.010000</td>\n",
       "    </tr>\n",
       "    <tr>\n",
       "      <th>volatility 11:40:00</th>\n",
       "      <td>0.010000</td>\n",
       "    </tr>\n",
       "    <tr>\n",
       "      <th>volatility 11:00:00</th>\n",
       "      <td>0.010000</td>\n",
       "    </tr>\n",
       "    <tr>\n",
       "      <th>volatility 11:55:00</th>\n",
       "      <td>0.010000</td>\n",
       "    </tr>\n",
       "    <tr>\n",
       "      <th>volatility 10:10:00</th>\n",
       "      <td>0.009286</td>\n",
       "    </tr>\n",
       "    <tr>\n",
       "      <th>volatility 12:35:00</th>\n",
       "      <td>0.008571</td>\n",
       "    </tr>\n",
       "    <tr>\n",
       "      <th>volatility 12:10:00</th>\n",
       "      <td>0.008571</td>\n",
       "    </tr>\n",
       "    <tr>\n",
       "      <th>volatility 12:05:00</th>\n",
       "      <td>0.008571</td>\n",
       "    </tr>\n",
       "    <tr>\n",
       "      <th>volatility 11:45:00</th>\n",
       "      <td>0.007857</td>\n",
       "    </tr>\n",
       "    <tr>\n",
       "      <th>volatility 10:50:00</th>\n",
       "      <td>0.007857</td>\n",
       "    </tr>\n",
       "    <tr>\n",
       "      <th>volatility 11:30:00</th>\n",
       "      <td>0.007143</td>\n",
       "    </tr>\n",
       "    <tr>\n",
       "      <th>product_id</th>\n",
       "      <td>0.007143</td>\n",
       "    </tr>\n",
       "  </tbody>\n",
       "</table>\n",
       "</div>"
      ],
      "text/plain": [
       "                     importance\n",
       "date                   0.182143\n",
       "volatility 13:50:00    0.070000\n",
       "volatility 13:45:00    0.045714\n",
       "volatility 13:35:00    0.032857\n",
       "volatility 13:30:00    0.028571\n",
       "volatility 13:40:00    0.025714\n",
       "volatility 12:45:00    0.022857\n",
       "volatility 13:25:00    0.021429\n",
       "volatility 13:05:00    0.021429\n",
       "volatility 09:30:00    0.017857\n",
       "volatility 13:15:00    0.017857\n",
       "volatility 13:10:00    0.017143\n",
       "volatility 12:55:00    0.017143\n",
       "volatility 13:20:00    0.016429\n",
       "volatility 11:25:00    0.015000\n",
       "volatility 09:40:00    0.015000\n",
       "volatility 10:15:00    0.014286\n",
       "volatility 12:00:00    0.014286\n",
       "volatility 09:50:00    0.013571\n",
       "volatility 12:20:00    0.013571\n",
       "volatility 11:05:00    0.013571\n",
       "volatility 12:40:00    0.012857\n",
       "volatility 12:30:00    0.012857\n",
       "volatility 12:15:00    0.012857\n",
       "volatility 11:35:00    0.012857\n",
       "volatility 10:30:00    0.012857\n",
       "volatility 10:05:00    0.012857\n",
       "volatility 11:10:00    0.012857\n",
       "volatility 09:45:00    0.012143\n",
       "volatility 09:35:00    0.012143\n",
       "volatility 10:45:00    0.012143\n",
       "volatility 10:55:00    0.012143\n",
       "volatility 13:00:00    0.012143\n",
       "volatility 11:20:00    0.011429\n",
       "volatility 12:25:00    0.011429\n",
       "volatility 12:50:00    0.011429\n",
       "volatility 10:25:00    0.011429\n",
       "volatility 10:40:00    0.010714\n",
       "volatility 11:15:00    0.010714\n",
       "volatility 11:50:00    0.010714\n",
       "volatility 10:00:00    0.010000\n",
       "volatility 10:35:00    0.010000\n",
       "volatility 09:55:00    0.010000\n",
       "volatility 10:20:00    0.010000\n",
       "volatility 11:40:00    0.010000\n",
       "volatility 11:00:00    0.010000\n",
       "volatility 11:55:00    0.010000\n",
       "volatility 10:10:00    0.009286\n",
       "volatility 12:35:00    0.008571\n",
       "volatility 12:10:00    0.008571\n",
       "volatility 12:05:00    0.008571\n",
       "volatility 11:45:00    0.007857\n",
       "volatility 10:50:00    0.007857\n",
       "volatility 11:30:00    0.007143\n",
       "product_id             0.007143"
      ]
     },
     "execution_count": 24,
     "metadata": {},
     "output_type": "execute_result"
    }
   ],
   "source": [
    "importances = xbr.feature_importances_\n",
    "feature_importances = pd.DataFrame(importances, index = X.columns, \n",
    "                                   columns=['importance']).sort_values('importance', ascending=False)\n",
    "plt.bar(feature_importances.index, feature_importances[\"importance\"])\n",
    "plt.show()\n",
    "\n",
    "feature_importances"
   ]
  },
  {
   "cell_type": "markdown",
   "metadata": {},
   "source": [
    "#### investidating depth\n",
    "- more indices of overfitting more than anything else"
   ]
  },
  {
   "cell_type": "code",
   "execution_count": 25,
   "metadata": {},
   "outputs": [
    {
     "name": "stdout",
     "output_type": "stream",
     "text": [
      "mape valid:    3 26.31710034418024\n",
      "mape training: 3 25.131333155830593\n",
      "delta 1.1857671883496472\n",
      "--------------\n",
      "mape valid:    4 25.74663353968197\n",
      "mape training: 4 24.577840881125187\n",
      "delta 1.1687926585567823\n",
      "--------------\n",
      "mape valid:    5 25.852552428883236\n",
      "mape training: 5 23.928005530237762\n",
      "delta 1.924546898645474\n",
      "--------------\n",
      "mape valid:    6 25.725513778729432\n",
      "mape training: 6 23.180871496549862\n",
      "delta 2.54464228217957\n",
      "--------------\n",
      "mape valid:    7 25.591026445064518\n",
      "mape training: 7 22.07880780715679\n",
      "delta 3.512218637907729\n",
      "--------------\n",
      "mape valid:    8 25.829104791415393\n",
      "mape training: 8 21.03261465525013\n",
      "delta 4.796490136165264\n",
      "--------------\n",
      "mape valid:    9 25.579356576091648\n",
      "mape training: 9 19.5575059337623\n",
      "delta 6.021850642329348\n",
      "--------------\n",
      "Wall time: 23min 59s\n"
     ]
    }
   ],
   "source": [
    "%%time\n",
    "Lm = []\n",
    "Lt= []\n",
    "Ld = []\n",
    "r = range(3, 10)\n",
    "for i in r:    \n",
    "    xbr= xgb.XGBRegressor(max_depth=i, learning_rate=0.1, n_estimators=140,  subsample=1,  \n",
    "                       random_state=42, n_jobs=-1)\n",
    "    xbr.fit(X, logy)\n",
    "\n",
    "    logy_pred = xbr.predict(X_valid)\n",
    "    y_pred = np.exp(logy_pred )\n",
    "    m= MAPE(y_true, y_pred)\n",
    "    logyt = xbr.predict(X)\n",
    "    yt = np.exp(logyt)\n",
    "    t= MAPE(y, yt)                \n",
    "    print(\"mape valid:    \"+ str(i), m)\n",
    "    print(\"mape training: \"+ str(i), t)\n",
    "    print(\"delta\", m-t)\n",
    "    print(\"--------------\")              \n",
    "    \n",
    "    Lm.append(m)\n",
    "    Lt.append(t)\n",
    "    Ld.append(m-t)"
   ]
  },
  {
   "cell_type": "code",
   "execution_count": 26,
   "metadata": {},
   "outputs": [
    {
     "data": {
      "image/png": "[encoded data removed]",
      "text/plain": [
       "<Figure size 432x288 with 1 Axes>"
      ]
     },
     "metadata": {},
     "output_type": "display_data"
    }
   ],
   "source": [
    "\n",
    "plt.plot(r, Lt, label = \"train\")\n",
    "plt.plot(r, Lm, label = \"valid\")\n",
    "plt.legend(loc='upper right')\n",
    "plt.show()"
   ]
  },
  {
   "cell_type": "markdown",
   "metadata": {},
   "source": [
    "#### with all but date"
   ]
  },
  {
   "cell_type": "code",
   "execution_count": 27,
   "metadata": {},
   "outputs": [],
   "source": [
    "df= pd.concat([fdf, output[\"TARGET\"]], axis=1)\n",
    "valid = df[df.date>=1563]\n",
    "training = df[df.date<1563]\n",
    "X = training.iloc[:,1:-1]\n",
    "y = training.iloc[:,-1]\n",
    "\n",
    "X_valid = valid.iloc[:,1:-1]\n",
    "y_true = valid.iloc[:,-1]\n",
    "logy = np.log(y)"
   ]
  },
  {
   "cell_type": "code",
   "execution_count": 28,
   "metadata": {},
   "outputs": [
    {
     "name": "stdout",
     "output_type": "stream",
     "text": [
      "mape valid:    80 25.63389072444393\n",
      "mape training: 80 25.09743314017925\n",
      "delta 0.5364575842646815\n",
      "--------------\n",
      "mape valid:    110 25.442227894703745\n",
      "mape training: 110 24.820818155820092\n",
      "delta 0.6214097388836528\n",
      "--------------\n",
      "mape valid:    140 25.57137407445919\n",
      "mape training: 140 24.63807024450408\n",
      "delta 0.9333038299551113\n",
      "--------------\n",
      "Wall time: 3min 55s\n"
     ]
    }
   ],
   "source": [
    "%%time\n",
    "Lm = []\n",
    "Lt= []\n",
    "Ld = []\n",
    "r = range(80, 170, 30)\n",
    "for i in r:    \n",
    "    xbr= xgb.XGBRegressor(max_depth=3, learning_rate=0.1, n_estimators=i,  subsample=1,  \n",
    "                       random_state=42, n_jobs=-1)\n",
    "    xbr.fit(X, logy)\n",
    "\n",
    "    logy_pred = xbr.predict(X_valid)\n",
    "    y_pred = np.exp(logy_pred )\n",
    "    m= MAPE(y_true, y_pred)\n",
    "    logyt = xbr.predict(X)\n",
    "    yt = np.exp(logyt)\n",
    "    t= MAPE(y, yt)                \n",
    "    print(\"mape valid:    \"+ str(i), m)\n",
    "    print(\"mape training: \"+ str(i), t)\n",
    "    print(\"delta\", m-t)\n",
    "    print(\"--------------\")              \n",
    "    \n",
    "    Lm.append(m)\n",
    "    Lt.append(t)\n",
    "    Ld.append(m-t)"
   ]
  },
  {
   "cell_type": "code",
   "execution_count": 29,
   "metadata": {},
   "outputs": [
    {
     "data": {
      "text/plain": [
       "<matplotlib.legend.Legend at 0x1f5aa49a780>"
      ]
     },
     "execution_count": 29,
     "metadata": {},
     "output_type": "execute_result"
    },
    {
     "data": {
      "image/png": "[encoded data removed]",
      "text/plain": [
       "<Figure size 432x288 with 1 Axes>"
      ]
     },
     "metadata": {},
     "output_type": "display_data"
    }
   ],
   "source": [
    "\n",
    "plt.plot(r, Lt, label = \"train\")\n",
    "plt.plot(r, Lm, label = \"valid\")\n",
    "plt.legend(loc='upper right')"
   ]
  },
  {
   "cell_type": "code",
   "execution_count": 30,
   "metadata": {},
   "outputs": [
    {
     "data": {
      "image/png": "[encoded data removed]",
      "text/plain": [
       "<Figure size 432x288 with 1 Axes>"
      ]
     },
     "metadata": {},
     "output_type": "display_data"
    },
    {
     "data": {
      "text/html": [
       "<div>\n",
       "<style scoped>\n",
       "    .dataframe tbody tr th:only-of-type {\n",
       "        vertical-align: middle;\n",
       "    }\n",
       "\n",
       "    .dataframe tbody tr th {\n",
       "        vertical-align: top;\n",
       "    }\n",
       "\n",
       "    .dataframe thead th {\n",
       "        text-align: right;\n",
       "    }\n",
       "</style>\n",
       "<table border=\"1\" class=\"dataframe\">\n",
       "  <thead>\n",
       "    <tr style=\"text-align: right;\">\n",
       "      <th></th>\n",
       "      <th>importance</th>\n",
       "    </tr>\n",
       "  </thead>\n",
       "  <tbody>\n",
       "    <tr>\n",
       "      <th>date</th>\n",
       "      <td>0.120408</td>\n",
       "    </tr>\n",
       "    <tr>\n",
       "      <th>return_abssum</th>\n",
       "      <td>0.070408</td>\n",
       "    </tr>\n",
       "    <tr>\n",
       "      <th>return_zeros</th>\n",
       "      <td>0.054082</td>\n",
       "    </tr>\n",
       "    <tr>\n",
       "      <th>volatility 13:55:00</th>\n",
       "      <td>0.043878</td>\n",
       "    </tr>\n",
       "    <tr>\n",
       "      <th>return_ones</th>\n",
       "      <td>0.035714</td>\n",
       "    </tr>\n",
       "    <tr>\n",
       "      <th>volatility 13:50:00</th>\n",
       "      <td>0.034694</td>\n",
       "    </tr>\n",
       "    <tr>\n",
       "      <th>volatility 13:45:00</th>\n",
       "      <td>0.027551</td>\n",
       "    </tr>\n",
       "    <tr>\n",
       "      <th>volatility 13:40:00</th>\n",
       "      <td>0.024490</td>\n",
       "    </tr>\n",
       "    <tr>\n",
       "      <th>volatility 13:35:00</th>\n",
       "      <td>0.021429</td>\n",
       "    </tr>\n",
       "    <tr>\n",
       "      <th>volatility 12:45:00</th>\n",
       "      <td>0.019388</td>\n",
       "    </tr>\n",
       "    <tr>\n",
       "      <th>volatility 13:15:00</th>\n",
       "      <td>0.018367</td>\n",
       "    </tr>\n",
       "    <tr>\n",
       "      <th>volatility 13:30:00</th>\n",
       "      <td>0.018367</td>\n",
       "    </tr>\n",
       "    <tr>\n",
       "      <th>volatility 13:25:00</th>\n",
       "      <td>0.017347</td>\n",
       "    </tr>\n",
       "    <tr>\n",
       "      <th>volatility 12:30:00</th>\n",
       "      <td>0.016327</td>\n",
       "    </tr>\n",
       "    <tr>\n",
       "      <th>NA</th>\n",
       "      <td>0.016327</td>\n",
       "    </tr>\n",
       "    <tr>\n",
       "      <th>volatility 13:20:00</th>\n",
       "      <td>0.016327</td>\n",
       "    </tr>\n",
       "    <tr>\n",
       "      <th>volatility 10:45:00</th>\n",
       "      <td>0.014286</td>\n",
       "    </tr>\n",
       "    <tr>\n",
       "      <th>volatility 10:40:00</th>\n",
       "      <td>0.014286</td>\n",
       "    </tr>\n",
       "    <tr>\n",
       "      <th>volatility 13:05:00</th>\n",
       "      <td>0.013265</td>\n",
       "    </tr>\n",
       "    <tr>\n",
       "      <th>volatility 12:50:00</th>\n",
       "      <td>0.012245</td>\n",
       "    </tr>\n",
       "    <tr>\n",
       "      <th>volatility 11:40:00</th>\n",
       "      <td>0.012245</td>\n",
       "    </tr>\n",
       "    <tr>\n",
       "      <th>volatility 11:15:00</th>\n",
       "      <td>0.012245</td>\n",
       "    </tr>\n",
       "    <tr>\n",
       "      <th>volatility 11:55:00</th>\n",
       "      <td>0.012245</td>\n",
       "    </tr>\n",
       "    <tr>\n",
       "      <th>volatility 13:10:00</th>\n",
       "      <td>0.012245</td>\n",
       "    </tr>\n",
       "    <tr>\n",
       "      <th>volatility 09:35:00</th>\n",
       "      <td>0.012245</td>\n",
       "    </tr>\n",
       "    <tr>\n",
       "      <th>volatility 09:50:00</th>\n",
       "      <td>0.012245</td>\n",
       "    </tr>\n",
       "    <tr>\n",
       "      <th>volatility 10:05:00</th>\n",
       "      <td>0.011224</td>\n",
       "    </tr>\n",
       "    <tr>\n",
       "      <th>volatility 09:45:00</th>\n",
       "      <td>0.011224</td>\n",
       "    </tr>\n",
       "    <tr>\n",
       "      <th>volatility 13:00:00</th>\n",
       "      <td>0.010204</td>\n",
       "    </tr>\n",
       "    <tr>\n",
       "      <th>volatility 12:05:00</th>\n",
       "      <td>0.010204</td>\n",
       "    </tr>\n",
       "    <tr>\n",
       "      <th>...</th>\n",
       "      <td>...</td>\n",
       "    </tr>\n",
       "    <tr>\n",
       "      <th>volatility 10:55:00</th>\n",
       "      <td>0.010204</td>\n",
       "    </tr>\n",
       "    <tr>\n",
       "      <th>volatility 11:45:00</th>\n",
       "      <td>0.010204</td>\n",
       "    </tr>\n",
       "    <tr>\n",
       "      <th>volatility 09:40:00</th>\n",
       "      <td>0.010204</td>\n",
       "    </tr>\n",
       "    <tr>\n",
       "      <th>volatility 09:55:00</th>\n",
       "      <td>0.010204</td>\n",
       "    </tr>\n",
       "    <tr>\n",
       "      <th>volatility 10:00:00</th>\n",
       "      <td>0.010204</td>\n",
       "    </tr>\n",
       "    <tr>\n",
       "      <th>volatility 10:10:00</th>\n",
       "      <td>0.010204</td>\n",
       "    </tr>\n",
       "    <tr>\n",
       "      <th>volatility 11:35:00</th>\n",
       "      <td>0.010204</td>\n",
       "    </tr>\n",
       "    <tr>\n",
       "      <th>volatility 10:15:00</th>\n",
       "      <td>0.010204</td>\n",
       "    </tr>\n",
       "    <tr>\n",
       "      <th>volatility 10:25:00</th>\n",
       "      <td>0.010204</td>\n",
       "    </tr>\n",
       "    <tr>\n",
       "      <th>volatility 11:30:00</th>\n",
       "      <td>0.010204</td>\n",
       "    </tr>\n",
       "    <tr>\n",
       "      <th>volatility 10:35:00</th>\n",
       "      <td>0.010204</td>\n",
       "    </tr>\n",
       "    <tr>\n",
       "      <th>volatility 10:50:00</th>\n",
       "      <td>0.009184</td>\n",
       "    </tr>\n",
       "    <tr>\n",
       "      <th>volatility 11:05:00</th>\n",
       "      <td>0.009184</td>\n",
       "    </tr>\n",
       "    <tr>\n",
       "      <th>volatility 12:20:00</th>\n",
       "      <td>0.009184</td>\n",
       "    </tr>\n",
       "    <tr>\n",
       "      <th>volatility 11:20:00</th>\n",
       "      <td>0.009184</td>\n",
       "    </tr>\n",
       "    <tr>\n",
       "      <th>volatility 12:10:00</th>\n",
       "      <td>0.009184</td>\n",
       "    </tr>\n",
       "    <tr>\n",
       "      <th>volatility 11:25:00</th>\n",
       "      <td>0.009184</td>\n",
       "    </tr>\n",
       "    <tr>\n",
       "      <th>volatility 12:15:00</th>\n",
       "      <td>0.009184</td>\n",
       "    </tr>\n",
       "    <tr>\n",
       "      <th>volatility 12:35:00</th>\n",
       "      <td>0.009184</td>\n",
       "    </tr>\n",
       "    <tr>\n",
       "      <th>volatility 11:00:00</th>\n",
       "      <td>0.008163</td>\n",
       "    </tr>\n",
       "    <tr>\n",
       "      <th>volatility 12:40:00</th>\n",
       "      <td>0.008163</td>\n",
       "    </tr>\n",
       "    <tr>\n",
       "      <th>volatility 11:50:00</th>\n",
       "      <td>0.008163</td>\n",
       "    </tr>\n",
       "    <tr>\n",
       "      <th>volatility 11:10:00</th>\n",
       "      <td>0.007143</td>\n",
       "    </tr>\n",
       "    <tr>\n",
       "      <th>volatility 10:20:00</th>\n",
       "      <td>0.007143</td>\n",
       "    </tr>\n",
       "    <tr>\n",
       "      <th>volatility 12:25:00</th>\n",
       "      <td>0.007143</td>\n",
       "    </tr>\n",
       "    <tr>\n",
       "      <th>volatility 12:55:00</th>\n",
       "      <td>0.007143</td>\n",
       "    </tr>\n",
       "    <tr>\n",
       "      <th>volatility 10:30:00</th>\n",
       "      <td>0.006122</td>\n",
       "    </tr>\n",
       "    <tr>\n",
       "      <th>product_id</th>\n",
       "      <td>0.005102</td>\n",
       "    </tr>\n",
       "    <tr>\n",
       "      <th>return_minusones</th>\n",
       "      <td>0.004082</td>\n",
       "    </tr>\n",
       "    <tr>\n",
       "      <th>return_sum</th>\n",
       "      <td>0.000000</td>\n",
       "    </tr>\n",
       "  </tbody>\n",
       "</table>\n",
       "<p>62 rows × 1 columns</p>\n",
       "</div>"
      ],
      "text/plain": [
       "                     importance\n",
       "date                   0.120408\n",
       "return_abssum          0.070408\n",
       "return_zeros           0.054082\n",
       "volatility 13:55:00    0.043878\n",
       "return_ones            0.035714\n",
       "volatility 13:50:00    0.034694\n",
       "volatility 13:45:00    0.027551\n",
       "volatility 13:40:00    0.024490\n",
       "volatility 13:35:00    0.021429\n",
       "volatility 12:45:00    0.019388\n",
       "volatility 13:15:00    0.018367\n",
       "volatility 13:30:00    0.018367\n",
       "volatility 13:25:00    0.017347\n",
       "volatility 12:30:00    0.016327\n",
       "NA                     0.016327\n",
       "volatility 13:20:00    0.016327\n",
       "volatility 10:45:00    0.014286\n",
       "volatility 10:40:00    0.014286\n",
       "volatility 13:05:00    0.013265\n",
       "volatility 12:50:00    0.012245\n",
       "volatility 11:40:00    0.012245\n",
       "volatility 11:15:00    0.012245\n",
       "volatility 11:55:00    0.012245\n",
       "volatility 13:10:00    0.012245\n",
       "volatility 09:35:00    0.012245\n",
       "volatility 09:50:00    0.012245\n",
       "volatility 10:05:00    0.011224\n",
       "volatility 09:45:00    0.011224\n",
       "volatility 13:00:00    0.010204\n",
       "volatility 12:05:00    0.010204\n",
       "...                         ...\n",
       "volatility 10:55:00    0.010204\n",
       "volatility 11:45:00    0.010204\n",
       "volatility 09:40:00    0.010204\n",
       "volatility 09:55:00    0.010204\n",
       "volatility 10:00:00    0.010204\n",
       "volatility 10:10:00    0.010204\n",
       "volatility 11:35:00    0.010204\n",
       "volatility 10:15:00    0.010204\n",
       "volatility 10:25:00    0.010204\n",
       "volatility 11:30:00    0.010204\n",
       "volatility 10:35:00    0.010204\n",
       "volatility 10:50:00    0.009184\n",
       "volatility 11:05:00    0.009184\n",
       "volatility 12:20:00    0.009184\n",
       "volatility 11:20:00    0.009184\n",
       "volatility 12:10:00    0.009184\n",
       "volatility 11:25:00    0.009184\n",
       "volatility 12:15:00    0.009184\n",
       "volatility 12:35:00    0.009184\n",
       "volatility 11:00:00    0.008163\n",
       "volatility 12:40:00    0.008163\n",
       "volatility 11:50:00    0.008163\n",
       "volatility 11:10:00    0.007143\n",
       "volatility 10:20:00    0.007143\n",
       "volatility 12:25:00    0.007143\n",
       "volatility 12:55:00    0.007143\n",
       "volatility 10:30:00    0.006122\n",
       "product_id             0.005102\n",
       "return_minusones       0.004082\n",
       "return_sum             0.000000\n",
       "\n",
       "[62 rows x 1 columns]"
      ]
     },
     "execution_count": 30,
     "metadata": {},
     "output_type": "execute_result"
    }
   ],
   "source": [
    "importances = xbr.feature_importances_\n",
    "feature_importances = pd.DataFrame(importances, index = X.columns, \n",
    "                                   columns=['importance']).sort_values('importance', ascending=False)\n",
    "plt.bar(feature_importances.index, feature_importances[\"importance\"])\n",
    "plt.show()\n",
    "\n",
    "feature_importances"
   ]
  },
  {
   "cell_type": "code",
   "execution_count": 31,
   "metadata": {},
   "outputs": [
    {
     "data": {
      "image/png": "[encoded data removed]",
      "text/plain": [
       "<Figure size 432x288 with 1 Axes>"
      ]
     },
     "metadata": {},
     "output_type": "display_data"
    },
    {
     "data": {
      "image/png": "[encoded data removed]",
      "text/plain": [
       "<Figure size 432x288 with 1 Axes>"
      ]
     },
     "metadata": {},
     "output_type": "display_data"
    },
    {
     "data": {
      "text/plain": [
       "Text(0.5,1,'|ypred-y|/y vs y on train ln Q - original split')"
      ]
     },
     "execution_count": 31,
     "metadata": {},
     "output_type": "execute_result"
    },
    {
     "data": {
      "image/png": "[encoded data removed]",
      "text/plain": [
       "<Figure size 432x288 with 1 Axes>"
      ]
     },
     "metadata": {},
     "output_type": "display_data"
    }
   ],
   "source": [
    "df= valid.copy()\n",
    "df[\"ypred\"]= y_pred\n",
    "df[\"residus\"]= MAPE_residus(df[\"TARGET\"], df[\"ypred\"])\n",
    "\n",
    "dftrain= training.copy()\n",
    "dftrain[\"yt\"]= yt\n",
    "dftrain[\"residus\"]= MAPE_residus(dftrain[\"TARGET\"], dftrain[\"yt\"])\n",
    "\n",
    "\n",
    "\n",
    "plt.plot( 'TARGET', 'residus', data=df, linestyle='', marker='o', markersize=2)\n",
    "plt.yscale('log', nonposy='clip')\n",
    "#ax.set_xlim(0,)\n",
    "plt.title(\"|ypred-y|/y vs y on valid ln Q - original split\")\n",
    "plt.show()\n",
    "\n",
    "ax = plt.subplot()\n",
    "ax.set_xscale(\"log\", nonposx='clip')\n",
    "ax.set_yscale(\"log\", nonposy='clip')\n",
    "plt.plot( 'TARGET', 'residus', data=df, linestyle='', marker='o', markersize=2)\n",
    "#ax.set_ylim(ymin=0.1)\n",
    "ax.set_title('|ypred-y|/y vs y on valid ln Q - original split')\n",
    "plt.show()\n",
    "\n",
    "ax = plt.subplot()\n",
    "ax.set_xscale(\"log\", nonposx='clip')\n",
    "ax.set_yscale(\"log\", nonposy='clip')\n",
    "plt.plot( 'yt', 'residus', data=dftrain, linestyle='', marker='o', markersize=2, alpha=0.6)\n",
    "ax.set_title('|ypred-y|/y vs y on train ln Q - original split')"
   ]
  },
  {
   "cell_type": "code",
   "execution_count": 32,
   "metadata": {},
   "outputs": [],
   "source": [
    "### target impact des NAN"
   ]
  },
  {
   "cell_type": "code",
   "execution_count": 33,
   "metadata": {},
   "outputs": [],
   "source": [
    "tdf = fdf.copy()\n",
    "tdf['TARGET'] = output[\"TARGET\"]"
   ]
  },
  {
   "cell_type": "code",
   "execution_count": 34,
   "metadata": {},
   "outputs": [
    {
     "data": {
      "image/png": "[encoded data removed]",
      "text/plain": [
       "<Figure size 432x288 with 1 Axes>"
      ]
     },
     "metadata": {},
     "output_type": "display_data"
    }
   ],
   "source": [
    "plt.hist(tdf[\"TARGET\"])\n",
    "plt.title(\"Y\")\n",
    "plt.ylabel(\" Frequency\")\n",
    "plt.yscale('log', nonposy='clip')\n",
    "plt.show()"
   ]
  },
  {
   "cell_type": "code",
   "execution_count": 35,
   "metadata": {},
   "outputs": [
    {
     "data": {
      "text/plain": [
       "(617021, 64)"
      ]
     },
     "execution_count": 35,
     "metadata": {},
     "output_type": "execute_result"
    }
   ],
   "source": [
    "tdf[tdf.NA < 0.1].shape\n",
    "#tdf.shape"
   ]
  },
  {
   "cell_type": "code",
   "execution_count": 36,
   "metadata": {
    "scrolled": true
   },
   "outputs": [
    {
     "data": {
      "image/png": "[encoded data removed]",
      "text/plain": [
       "<Figure size 432x288 with 1 Axes>"
      ]
     },
     "metadata": {},
     "output_type": "display_data"
    }
   ],
   "source": [
    "plt.hist(tdf[\"TARGET\"])\n",
    "plt.title(\"Y\")\n",
    "plt.ylabel(\" Frequency\")\n",
    "plt.yscale('log', nonposy='clip')\n",
    "plt.show()"
   ]
  },
  {
   "cell_type": "code",
   "execution_count": 37,
   "metadata": {
    "scrolled": true
   },
   "outputs": [
    {
     "data": {
      "image/png": "[encoded data removed]",
      "text/plain": [
       "<Figure size 432x288 with 1 Axes>"
      ]
     },
     "metadata": {},
     "output_type": "display_data"
    },
    {
     "data": {
      "image/png": "[encoded data removed]",
      "text/plain": [
       "<Figure size 432x288 with 1 Axes>"
      ]
     },
     "metadata": {},
     "output_type": "display_data"
    },
    {
     "data": {
      "image/png": "[encoded data removed]",
      "text/plain": [
       "<Figure size 432x288 with 1 Axes>"
      ]
     },
     "metadata": {},
     "output_type": "display_data"
    },
    {
     "data": {
      "image/png": "[encoded data removed]",
      "text/plain": [
       "<Figure size 432x288 with 1 Axes>"
      ]
     },
     "metadata": {},
     "output_type": "display_data"
    },
    {
     "data": {
      "image/png": "[encoded data removed]",
      "text/plain": [
       "<Figure size 432x288 with 1 Axes>"
      ]
     },
     "metadata": {},
     "output_type": "display_data"
    },
    {
     "data": {
      "image/png": "[encoded data removed]",
      "text/plain": [
       "<Figure size 432x288 with 1 Axes>"
      ]
     },
     "metadata": {},
     "output_type": "display_data"
    },
    {
     "data": {
      "image/png": "[encoded data removed]",
      "text/plain": [
       "<Figure size 432x288 with 1 Axes>"
      ]
     },
     "metadata": {},
     "output_type": "display_data"
    },
    {
     "data": {
      "image/png": "[encoded data removed]",
      "text/plain": [
       "<Figure size 432x288 with 1 Axes>"
      ]
     },
     "metadata": {},
     "output_type": "display_data"
    },
    {
     "data": {
      "image/png": "[encoded data removed]",
      "text/plain": [
       "<Figure size 432x288 with 1 Axes>"
      ]
     },
     "metadata": {},
     "output_type": "display_data"
    },
    {
     "data": {
      "image/png": "[encoded data removed]",
      "text/plain": [
       "<Figure size 432x288 with 1 Axes>"
      ]
     },
     "metadata": {},
     "output_type": "display_data"
    },
    {
     "data": {
      "image/png": "[encoded data removed]",
      "text/plain": [
       "<Figure size 432x288 with 1 Axes>"
      ]
     },
     "metadata": {},
     "output_type": "display_data"
    },
    {
     "data": {
      "image/png": "[encoded data removed]",
      "text/plain": [
       "<Figure size 432x288 with 1 Axes>"
      ]
     },
     "metadata": {},
     "output_type": "display_data"
    },
    {
     "data": {
      "image/png": "[encoded data removed]",
      "text/plain": [
       "<Figure size 432x288 with 1 Axes>"
      ]
     },
     "metadata": {},
     "output_type": "display_data"
    },
    {
     "data": {
      "image/png": "[encoded data removed]",
      "text/plain": [
       "<Figure size 432x288 with 1 Axes>"
      ]
     },
     "metadata": {},
     "output_type": "display_data"
    },
    {
     "data": {
      "image/png": "[encoded data removed]",
      "text/plain": [
       "<Figure size 432x288 with 1 Axes>"
      ]
     },
     "metadata": {},
     "output_type": "display_data"
    },
    {
     "data": {
      "image/png": "[encoded data removed]",
      "text/plain": [
       "<Figure size 432x288 with 1 Axes>"
      ]
     },
     "metadata": {},
     "output_type": "display_data"
    },
    {
     "data": {
      "image/png": "[encoded data removed]",
      "text/plain": [
       "<Figure size 432x288 with 1 Axes>"
      ]
     },
     "metadata": {},
     "output_type": "display_data"
    },
    {
     "data": {
      "image/png": "[encoded data removed]",
      "text/plain": [
       "<Figure size 432x288 with 1 Axes>"
      ]
     },
     "metadata": {},
     "output_type": "display_data"
    }
   ],
   "source": [
    "\n",
    "for i in range(1, 19):\n",
    "    l =i/20\n",
    "    plt.hist(tdf[tdf.NA > l][\"TARGET\"])\n",
    "    plt.title(\"Y >\"+ str(l))\n",
    "    plt.ylabel(\" Frequency\")\n",
    "    plt.yscale('log', nonposy='clip')\n",
    "    plt.show()"
   ]
  },
  {
   "cell_type": "code",
   "execution_count": 38,
   "metadata": {},
   "outputs": [
    {
     "data": {
      "text/plain": [
       "(0, 8.0)"
      ]
     },
     "execution_count": 38,
     "metadata": {},
     "output_type": "execute_result"
    },
    {
     "data": {
      "image/png": "[encoded data removed]",
      "text/plain": [
       "<Figure size 432x288 with 1 Axes>"
      ]
     },
     "metadata": {},
     "output_type": "display_data"
    }
   ],
   "source": [
    "import seaborn as sns; sns.set()\n",
    "import matplotlib.pyplot as plt\n",
    "\n",
    "ax = sns.scatterplot(x=tdf[\"NA\"], y=tdf[\"TARGET\"], data=tdf)\n",
    "ax.set_xlim(0,1)\n",
    "ax.set_ylim(0,)"
   ]
  },
  {
   "cell_type": "code",
   "execution_count": 39,
   "metadata": {},
   "outputs": [
    {
     "data": {
      "image/png": "[encoded data removed]",
      "text/plain": [
       "<Figure size 432x288 with 1 Axes>"
      ]
     },
     "metadata": {},
     "output_type": "display_data"
    }
   ],
   "source": [
    "\n",
    "#tdf[tdf['volatility 09:30:00'].isna()]\n",
    "\n",
    "\n",
    "plt.hist(tdf[tdf['volatility 09:30:00'].isna()][\"TARGET\"])\n",
    "plt.title(\"target for NA at 9:30\")\n",
    "plt.ylabel(\" Frequency\")\n",
    "plt.yscale('log', nonposy='clip')\n",
    "plt.show()"
   ]
  },
  {
   "cell_type": "markdown",
   "metadata": {},
   "source": [
    "##### investigating depth (all step 1 features nbut dates)\n",
    "- pareil: indices d'overfitting"
   ]
  },
  {
   "cell_type": "code",
   "execution_count": 40,
   "metadata": {},
   "outputs": [
    {
     "name": "stdout",
     "output_type": "stream",
     "text": [
      "mape valid:    3 25.57137407445919\n",
      "mape training: 3 24.63807024450408\n",
      "delta 0.9333038299551113\n",
      "--------------\n",
      "mape valid:    4 25.23035795088015\n",
      "mape training: 4 24.135829086627744\n",
      "delta 1.094528864252407\n",
      "--------------\n",
      "mape valid:    5 25.17253731045132\n",
      "mape training: 5 23.424523318038386\n",
      "delta 1.748013992412936\n",
      "--------------\n",
      "mape valid:    6 25.09314689575209\n",
      "mape training: 6 22.722664523700033\n",
      "delta 2.370482372052056\n",
      "--------------\n",
      "Wall time: 10min 1s\n"
     ]
    }
   ],
   "source": [
    "%%time\n",
    "Lm = []\n",
    "Lt= []\n",
    "Ld = []\n",
    "r = range(3, 7)\n",
    "for i in r:    \n",
    "    xbr= xgb.XGBRegressor(max_depth=i, learning_rate=0.1, n_estimators=140,  subsample=1,  \n",
    "                       random_state=42, n_jobs=-1)\n",
    "    xbr.fit(X, logy)\n",
    "\n",
    "    logy_pred = xbr.predict(X_valid)\n",
    "    y_pred = np.exp(logy_pred )\n",
    "    m= MAPE(y_true, y_pred)\n",
    "    logyt = xbr.predict(X)\n",
    "    yt = np.exp(logyt)\n",
    "    t= MAPE(y, yt)                \n",
    "    print(\"mape valid:    \"+ str(i), m)\n",
    "    print(\"mape training: \"+ str(i), t)\n",
    "    print(\"delta\", m-t)\n",
    "    print(\"--------------\")              \n",
    "    \n",
    "    Lm.append(m)\n",
    "    Lt.append(t)\n",
    "    Ld.append(m-t)"
   ]
  },
  {
   "cell_type": "code",
   "execution_count": 41,
   "metadata": {},
   "outputs": [
    {
     "data": {
      "image/png": "[encoded data removed]",
      "text/plain": [
       "<Figure size 432x288 with 1 Axes>"
      ]
     },
     "metadata": {},
     "output_type": "display_data"
    }
   ],
   "source": [
    "plt.plot(r, Lt, label = \"train\")\n",
    "plt.plot(r, Lm, label = \"valid\")\n",
    "plt.legend(loc='upper right')\n",
    "plt.show()"
   ]
  },
  {
   "cell_type": "markdown",
   "metadata": {},
   "source": [
    "# Adding mean, std,... for valatilities as features"
   ]
  },
  {
   "cell_type": "code",
   "execution_count": 42,
   "metadata": {
    "scrolled": true
   },
   "outputs": [
    {
     "data": {
      "text/plain": [
       "0         0.257565\n",
       "1         0.078033\n",
       "2         0.356612\n",
       "3         0.192071\n",
       "4         0.105580\n",
       "5         0.153761\n",
       "6         0.200458\n",
       "7         0.201893\n",
       "8         0.136637\n",
       "9         0.197429\n",
       "10        0.135070\n",
       "11        0.128164\n",
       "12        0.203661\n",
       "13        0.276832\n",
       "14        0.124583\n",
       "15        0.278302\n",
       "16        0.129927\n",
       "17        0.152222\n",
       "18        0.146770\n",
       "19        0.159946\n",
       "20        0.082166\n",
       "21        0.234897\n",
       "22        0.453514\n",
       "23        0.113714\n",
       "24        0.150537\n",
       "25        0.109125\n",
       "26        0.270659\n",
       "27        0.135687\n",
       "28        0.084514\n",
       "29        0.135251\n",
       "            ...   \n",
       "636283    0.096471\n",
       "636284    0.193158\n",
       "636285    0.213427\n",
       "636286    0.143488\n",
       "636287    0.132541\n",
       "636288    0.186642\n",
       "636289    0.081523\n",
       "636290    0.079557\n",
       "636291    0.103796\n",
       "636292    0.143310\n",
       "636293    0.107018\n",
       "636294    0.178916\n",
       "636295    0.071690\n",
       "636296    0.130734\n",
       "636297    0.115281\n",
       "636298    0.098487\n",
       "636299    0.113024\n",
       "636300    0.249485\n",
       "636301    0.162956\n",
       "636302    0.240798\n",
       "636303    0.114809\n",
       "636304    0.087918\n",
       "636305    0.095534\n",
       "636306    0.346246\n",
       "636307    0.126052\n",
       "636308    0.333441\n",
       "636309    0.132178\n",
       "636310    0.174158\n",
       "636311    0.056682\n",
       "636312    0.079812\n",
       "Length: 636313, dtype: float64"
      ]
     },
     "execution_count": 42,
     "metadata": {},
     "output_type": "execute_result"
    }
   ],
   "source": [
    "temp= fdf.loc[:, 'volatility 09:30:00':'volatility 13:55:00']\n",
    "\n",
    "temp.mean(axis=1)"
   ]
  },
  {
   "cell_type": "code",
   "execution_count": 43,
   "metadata": {},
   "outputs": [
    {
     "data": {
      "text/html": [
       "<div>\n",
       "<style scoped>\n",
       "    .dataframe tbody tr th:only-of-type {\n",
       "        vertical-align: middle;\n",
       "    }\n",
       "\n",
       "    .dataframe tbody tr th {\n",
       "        vertical-align: top;\n",
       "    }\n",
       "\n",
       "    .dataframe thead th {\n",
       "        text-align: right;\n",
       "    }\n",
       "</style>\n",
       "<table border=\"1\" class=\"dataframe\">\n",
       "  <thead>\n",
       "    <tr style=\"text-align: right;\">\n",
       "      <th></th>\n",
       "      <th>volatility 09:30:00</th>\n",
       "      <th>volatility 09:35:00</th>\n",
       "      <th>volatility 09:40:00</th>\n",
       "      <th>volatility 09:45:00</th>\n",
       "      <th>volatility 09:50:00</th>\n",
       "      <th>volatility 09:55:00</th>\n",
       "      <th>volatility 10:00:00</th>\n",
       "      <th>volatility 10:05:00</th>\n",
       "      <th>volatility 10:10:00</th>\n",
       "      <th>volatility 10:15:00</th>\n",
       "      <th>...</th>\n",
       "      <th>volatility 13:40:00</th>\n",
       "      <th>volatility 13:45:00</th>\n",
       "      <th>volatility 13:50:00</th>\n",
       "      <th>volatility 13:55:00</th>\n",
       "      <th>NA</th>\n",
       "      <th>return_ones</th>\n",
       "      <th>return_zeros</th>\n",
       "      <th>return_minusones</th>\n",
       "      <th>return_sum</th>\n",
       "      <th>return_abssum</th>\n",
       "    </tr>\n",
       "    <tr>\n",
       "      <th>product_id</th>\n",
       "      <th></th>\n",
       "      <th></th>\n",
       "      <th></th>\n",
       "      <th></th>\n",
       "      <th></th>\n",
       "      <th></th>\n",
       "      <th></th>\n",
       "      <th></th>\n",
       "      <th></th>\n",
       "      <th></th>\n",
       "      <th></th>\n",
       "      <th></th>\n",
       "      <th></th>\n",
       "      <th></th>\n",
       "      <th></th>\n",
       "      <th></th>\n",
       "      <th></th>\n",
       "      <th></th>\n",
       "      <th></th>\n",
       "      <th></th>\n",
       "      <th></th>\n",
       "    </tr>\n",
       "  </thead>\n",
       "  <tbody>\n",
       "    <tr>\n",
       "      <th>1</th>\n",
       "      <td>0.571581</td>\n",
       "      <td>0.481006</td>\n",
       "      <td>0.399088</td>\n",
       "      <td>0.353912</td>\n",
       "      <td>0.327532</td>\n",
       "      <td>0.313944</td>\n",
       "      <td>0.336554</td>\n",
       "      <td>0.296295</td>\n",
       "      <td>0.277110</td>\n",
       "      <td>0.270482</td>\n",
       "      <td>...</td>\n",
       "      <td>0.172361</td>\n",
       "      <td>0.171758</td>\n",
       "      <td>0.170615</td>\n",
       "      <td>0.171046</td>\n",
       "      <td>0.000394</td>\n",
       "      <td>0.447725</td>\n",
       "      <td>0.100632</td>\n",
       "      <td>0.451250</td>\n",
       "      <td>-0.190364</td>\n",
       "      <td>48.544639</td>\n",
       "    </tr>\n",
       "    <tr>\n",
       "      <th>2</th>\n",
       "      <td>0.780034</td>\n",
       "      <td>0.591552</td>\n",
       "      <td>0.508716</td>\n",
       "      <td>0.466966</td>\n",
       "      <td>0.438827</td>\n",
       "      <td>0.389243</td>\n",
       "      <td>0.449619</td>\n",
       "      <td>0.388343</td>\n",
       "      <td>0.367146</td>\n",
       "      <td>0.361720</td>\n",
       "      <td>...</td>\n",
       "      <td>0.200103</td>\n",
       "      <td>0.206205</td>\n",
       "      <td>0.206285</td>\n",
       "      <td>0.206277</td>\n",
       "      <td>0.001102</td>\n",
       "      <td>0.452475</td>\n",
       "      <td>0.089741</td>\n",
       "      <td>0.456682</td>\n",
       "      <td>-0.227208</td>\n",
       "      <td>49.094473</td>\n",
       "    </tr>\n",
       "    <tr>\n",
       "      <th>3</th>\n",
       "      <td>0.718045</td>\n",
       "      <td>0.635197</td>\n",
       "      <td>0.557956</td>\n",
       "      <td>0.490133</td>\n",
       "      <td>0.453653</td>\n",
       "      <td>0.419192</td>\n",
       "      <td>0.465200</td>\n",
       "      <td>0.398776</td>\n",
       "      <td>0.364995</td>\n",
       "      <td>0.353594</td>\n",
       "      <td>...</td>\n",
       "      <td>0.200811</td>\n",
       "      <td>0.197498</td>\n",
       "      <td>0.202029</td>\n",
       "      <td>0.199778</td>\n",
       "      <td>0.003814</td>\n",
       "      <td>0.443097</td>\n",
       "      <td>0.106274</td>\n",
       "      <td>0.446815</td>\n",
       "      <td>-0.200756</td>\n",
       "      <td>48.055267</td>\n",
       "    </tr>\n",
       "    <tr>\n",
       "      <th>4</th>\n",
       "      <td>0.662133</td>\n",
       "      <td>0.571370</td>\n",
       "      <td>0.492088</td>\n",
       "      <td>0.425663</td>\n",
       "      <td>0.399189</td>\n",
       "      <td>0.359770</td>\n",
       "      <td>0.397671</td>\n",
       "      <td>0.341836</td>\n",
       "      <td>0.318827</td>\n",
       "      <td>0.308719</td>\n",
       "      <td>...</td>\n",
       "      <td>0.180512</td>\n",
       "      <td>0.179841</td>\n",
       "      <td>0.181908</td>\n",
       "      <td>0.179063</td>\n",
       "      <td>0.002572</td>\n",
       "      <td>0.447559</td>\n",
       "      <td>0.102329</td>\n",
       "      <td>0.447541</td>\n",
       "      <td>0.000945</td>\n",
       "      <td>48.335380</td>\n",
       "    </tr>\n",
       "    <tr>\n",
       "      <th>5</th>\n",
       "      <td>0.498846</td>\n",
       "      <td>0.458595</td>\n",
       "      <td>0.395708</td>\n",
       "      <td>0.347631</td>\n",
       "      <td>0.306795</td>\n",
       "      <td>0.285868</td>\n",
       "      <td>0.335285</td>\n",
       "      <td>0.288288</td>\n",
       "      <td>0.250535</td>\n",
       "      <td>0.245172</td>\n",
       "      <td>...</td>\n",
       "      <td>0.131630</td>\n",
       "      <td>0.134410</td>\n",
       "      <td>0.135456</td>\n",
       "      <td>0.138822</td>\n",
       "      <td>0.017078</td>\n",
       "      <td>0.387272</td>\n",
       "      <td>0.213608</td>\n",
       "      <td>0.382042</td>\n",
       "      <td>0.282443</td>\n",
       "      <td>41.542939</td>\n",
       "    </tr>\n",
       "  </tbody>\n",
       "</table>\n",
       "<p>5 rows × 60 columns</p>\n",
       "</div>"
      ],
      "text/plain": [
       "            volatility 09:30:00  volatility 09:35:00  volatility 09:40:00  \\\n",
       "product_id                                                                  \n",
       "1                      0.571581             0.481006             0.399088   \n",
       "2                      0.780034             0.591552             0.508716   \n",
       "3                      0.718045             0.635197             0.557956   \n",
       "4                      0.662133             0.571370             0.492088   \n",
       "5                      0.498846             0.458595             0.395708   \n",
       "\n",
       "            volatility 09:45:00  volatility 09:50:00  volatility 09:55:00  \\\n",
       "product_id                                                                  \n",
       "1                      0.353912             0.327532             0.313944   \n",
       "2                      0.466966             0.438827             0.389243   \n",
       "3                      0.490133             0.453653             0.419192   \n",
       "4                      0.425663             0.399189             0.359770   \n",
       "5                      0.347631             0.306795             0.285868   \n",
       "\n",
       "            volatility 10:00:00  volatility 10:05:00  volatility 10:10:00  \\\n",
       "product_id                                                                  \n",
       "1                      0.336554             0.296295             0.277110   \n",
       "2                      0.449619             0.388343             0.367146   \n",
       "3                      0.465200             0.398776             0.364995   \n",
       "4                      0.397671             0.341836             0.318827   \n",
       "5                      0.335285             0.288288             0.250535   \n",
       "\n",
       "            volatility 10:15:00      ...        volatility 13:40:00  \\\n",
       "product_id                           ...                              \n",
       "1                      0.270482      ...                   0.172361   \n",
       "2                      0.361720      ...                   0.200103   \n",
       "3                      0.353594      ...                   0.200811   \n",
       "4                      0.308719      ...                   0.180512   \n",
       "5                      0.245172      ...                   0.131630   \n",
       "\n",
       "            volatility 13:45:00  volatility 13:50:00  volatility 13:55:00  \\\n",
       "product_id                                                                  \n",
       "1                      0.171758             0.170615             0.171046   \n",
       "2                      0.206205             0.206285             0.206277   \n",
       "3                      0.197498             0.202029             0.199778   \n",
       "4                      0.179841             0.181908             0.179063   \n",
       "5                      0.134410             0.135456             0.138822   \n",
       "\n",
       "                  NA  return_ones  return_zeros  return_minusones  return_sum  \\\n",
       "product_id                                                                      \n",
       "1           0.000394     0.447725      0.100632          0.451250   -0.190364   \n",
       "2           0.001102     0.452475      0.089741          0.456682   -0.227208   \n",
       "3           0.003814     0.443097      0.106274          0.446815   -0.200756   \n",
       "4           0.002572     0.447559      0.102329          0.447541    0.000945   \n",
       "5           0.017078     0.387272      0.213608          0.382042    0.282443   \n",
       "\n",
       "            return_abssum  \n",
       "product_id                 \n",
       "1               48.544639  \n",
       "2               49.094473  \n",
       "3               48.055267  \n",
       "4               48.335380  \n",
       "5               41.542939  \n",
       "\n",
       "[5 rows x 60 columns]"
      ]
     },
     "execution_count": 43,
     "metadata": {},
     "output_type": "execute_result"
    }
   ],
   "source": [
    "temp = fdf.loc[:, 'volatility 09:30:00':].columns\n",
    "temp\n",
    "fdf.groupby(['product_id'])[temp].mean().head()"
   ]
  },
  {
   "cell_type": "code",
   "execution_count": 44,
   "metadata": {},
   "outputs": [],
   "source": [
    "# add \n",
    "\n",
    "def build_features_2(df):\n",
    "\n",
    "    result= df.copy()\n",
    "\n",
    "    temp= df.loc[:, 'volatility 09:30:00':'volatility 13:55:00']\n",
    "    #result[\"volmean\"] = temp.mean(axis=1)\n",
    "    \n",
    "    result[\"volmean\"] = temp.mean(axis=1)\n",
    "    result[\"volstd\"] = temp.std(axis=1)\n",
    "    result[\"volmin\"] = temp.min(axis=1)\n",
    "    result[\"volmax\"] = temp.max(axis=1)\n",
    "    result[\"vol25%\"] = temp.quantile(0.25, axis=1)\n",
    "    result[\"vol50%\"] = temp.quantile(0.50, axis=1)\n",
    "    result[\"vol75%\"] = temp.quantile(0.75, axis=1)\n",
    "    #result[\"vol95%\"] = temp.quantile(0.95, axis=1)\n",
    "\n",
    "    return result"
   ]
  },
  {
   "cell_type": "code",
   "execution_count": 45,
   "metadata": {},
   "outputs": [
    {
     "name": "stdout",
     "output_type": "stream",
     "text": [
      "Wall time: 2min 24s\n"
     ]
    }
   ],
   "source": [
    "%%time\n",
    "fdf2 = build_features_2(fdf)"
   ]
  },
  {
   "cell_type": "code",
   "execution_count": 46,
   "metadata": {},
   "outputs": [
    {
     "name": "stdout",
     "output_type": "stream",
     "text": [
      "0 tenth of first part completed\n",
      "63540 tenth of first part completed\n",
      "127080 tenth of first part completed\n",
      "190620 tenth of first part completed\n",
      "254160 tenth of first part completed\n",
      "317700 tenth of first part completed\n",
      "381240 tenth of first part completed\n",
      "444780 tenth of first part completed\n",
      "508320 tenth of first part completed\n",
      "571860 tenth of first part completed\n",
      "Wall time: 27min 28s\n"
     ]
    }
   ],
   "source": [
    "%%time\n",
    "test2 = build_features_2(build_features_1(test))"
   ]
  },
  {
   "cell_type": "code",
   "execution_count": 47,
   "metadata": {
    "scrolled": true
   },
   "outputs": [
    {
     "name": "stdout",
     "output_type": "stream",
     "text": [
      "NA\n"
     ]
    },
    {
     "data": {
      "image/png": "[encoded data removed]",
      "text/plain": [
       "<Figure size 432x288 with 1 Axes>"
      ]
     },
     "metadata": {},
     "output_type": "display_data"
    },
    {
     "name": "stdout",
     "output_type": "stream",
     "text": [
      "return_ones\n"
     ]
    },
    {
     "data": {
      "image/png": "[encoded data removed]",
      "text/plain": [
       "<Figure size 432x288 with 1 Axes>"
      ]
     },
     "metadata": {},
     "output_type": "display_data"
    },
    {
     "name": "stdout",
     "output_type": "stream",
     "text": [
      "return_zeros\n"
     ]
    },
    {
     "data": {
      "image/png": "[encoded data removed]",
      "text/plain": [
       "<Figure size 432x288 with 1 Axes>"
      ]
     },
     "metadata": {},
     "output_type": "display_data"
    },
    {
     "name": "stdout",
     "output_type": "stream",
     "text": [
      "return_minusones\n"
     ]
    },
    {
     "data": {
      "image/png": "[encoded data removed]",
      "text/plain": [
       "<Figure size 432x288 with 1 Axes>"
      ]
     },
     "metadata": {},
     "output_type": "display_data"
    },
    {
     "name": "stdout",
     "output_type": "stream",
     "text": [
      "return_sum\n"
     ]
    },
    {
     "data": {
      "image/png": "[encoded data removed]",
      "text/plain": [
       "<Figure size 432x288 with 1 Axes>"
      ]
     },
     "metadata": {},
     "output_type": "display_data"
    },
    {
     "name": "stdout",
     "output_type": "stream",
     "text": [
      "return_abssum\n"
     ]
    },
    {
     "data": {
      "image/png": "[encoded data removed]",
      "text/plain": [
       "<Figure size 432x288 with 1 Axes>"
      ]
     },
     "metadata": {},
     "output_type": "display_data"
    },
    {
     "name": "stdout",
     "output_type": "stream",
     "text": [
      "volmean\n"
     ]
    },
    {
     "data": {
      "image/png": "[encoded data removed]",
      "text/plain": [
       "<Figure size 432x288 with 1 Axes>"
      ]
     },
     "metadata": {},
     "output_type": "display_data"
    },
    {
     "name": "stdout",
     "output_type": "stream",
     "text": [
      "volstd\n"
     ]
    },
    {
     "name": "stderr",
     "output_type": "stream",
     "text": [
      "C:\\Anaconda3\\lib\\site-packages\\numpy\\core\\_methods.py:32: RuntimeWarning: invalid value encountered in reduce\n",
      "  return umr_minimum(a, axis, None, out, keepdims, initial)\n",
      "C:\\Anaconda3\\lib\\site-packages\\numpy\\core\\_methods.py:28: RuntimeWarning: invalid value encountered in reduce\n",
      "  return umr_maximum(a, axis, None, out, keepdims, initial)\n"
     ]
    },
    {
     "ename": "ValueError",
     "evalue": "max must be larger than min in range parameter.",
     "output_type": "error",
     "traceback": [
      "\u001b[1;31m---------------------------------------------------------------------------\u001b[0m",
      "\u001b[1;31mValueError\u001b[0m                                Traceback (most recent call last)",
      "\u001b[1;32m<ipython-input-47-11e92931deaf>\u001b[0m in \u001b[0;36m<module>\u001b[1;34m()\u001b[0m\n\u001b[0;32m      2\u001b[0m \u001b[1;32mfor\u001b[0m \u001b[0mi\u001b[0m \u001b[1;32min\u001b[0m \u001b[0mtmp\u001b[0m\u001b[1;33m.\u001b[0m\u001b[0mcolumns\u001b[0m\u001b[1;33m:\u001b[0m\u001b[1;33m\u001b[0m\u001b[0m\n\u001b[0;32m      3\u001b[0m     \u001b[0mprint\u001b[0m\u001b[1;33m(\u001b[0m\u001b[0mi\u001b[0m\u001b[1;33m)\u001b[0m\u001b[1;33m\u001b[0m\u001b[0m\n\u001b[1;32m----> 4\u001b[1;33m     \u001b[0mplt\u001b[0m\u001b[1;33m.\u001b[0m\u001b[0mhist\u001b[0m\u001b[1;33m(\u001b[0m\u001b[0mfdf2\u001b[0m\u001b[1;33m[\u001b[0m\u001b[0mi\u001b[0m\u001b[1;33m]\u001b[0m\u001b[1;33m)\u001b[0m\u001b[1;33m\u001b[0m\u001b[0m\n\u001b[0m\u001b[0;32m      5\u001b[0m     \u001b[0mplt\u001b[0m\u001b[1;33m.\u001b[0m\u001b[0mtitle\u001b[0m\u001b[1;33m(\u001b[0m\u001b[0mi\u001b[0m\u001b[1;33m)\u001b[0m\u001b[1;33m\u001b[0m\u001b[0m\n\u001b[0;32m      6\u001b[0m     \u001b[0mplt\u001b[0m\u001b[1;33m.\u001b[0m\u001b[0mylabel\u001b[0m\u001b[1;33m(\u001b[0m\u001b[1;34m\" Frequency\"\u001b[0m\u001b[1;33m)\u001b[0m\u001b[1;33m\u001b[0m\u001b[0m\n",
      "\u001b[1;32mC:\\Anaconda3\\lib\\site-packages\\matplotlib\\pyplot.py\u001b[0m in \u001b[0;36mhist\u001b[1;34m(x, bins, range, density, weights, cumulative, bottom, histtype, align, orientation, rwidth, log, color, label, stacked, normed, hold, data, **kwargs)\u001b[0m\n\u001b[0;32m   3130\u001b[0m                       \u001b[0mhisttype\u001b[0m\u001b[1;33m=\u001b[0m\u001b[0mhisttype\u001b[0m\u001b[1;33m,\u001b[0m \u001b[0malign\u001b[0m\u001b[1;33m=\u001b[0m\u001b[0malign\u001b[0m\u001b[1;33m,\u001b[0m \u001b[0morientation\u001b[0m\u001b[1;33m=\u001b[0m\u001b[0morientation\u001b[0m\u001b[1;33m,\u001b[0m\u001b[1;33m\u001b[0m\u001b[0m\n\u001b[0;32m   3131\u001b[0m                       \u001b[0mrwidth\u001b[0m\u001b[1;33m=\u001b[0m\u001b[0mrwidth\u001b[0m\u001b[1;33m,\u001b[0m \u001b[0mlog\u001b[0m\u001b[1;33m=\u001b[0m\u001b[0mlog\u001b[0m\u001b[1;33m,\u001b[0m \u001b[0mcolor\u001b[0m\u001b[1;33m=\u001b[0m\u001b[0mcolor\u001b[0m\u001b[1;33m,\u001b[0m \u001b[0mlabel\u001b[0m\u001b[1;33m=\u001b[0m\u001b[0mlabel\u001b[0m\u001b[1;33m,\u001b[0m\u001b[1;33m\u001b[0m\u001b[0m\n\u001b[1;32m-> 3132\u001b[1;33m                       stacked=stacked, normed=normed, data=data, **kwargs)\n\u001b[0m\u001b[0;32m   3133\u001b[0m     \u001b[1;32mfinally\u001b[0m\u001b[1;33m:\u001b[0m\u001b[1;33m\u001b[0m\u001b[0m\n\u001b[0;32m   3134\u001b[0m         \u001b[0max\u001b[0m\u001b[1;33m.\u001b[0m\u001b[0m_hold\u001b[0m \u001b[1;33m=\u001b[0m \u001b[0mwashold\u001b[0m\u001b[1;33m\u001b[0m\u001b[0m\n",
      "\u001b[1;32mC:\\Anaconda3\\lib\\site-packages\\matplotlib\\__init__.py\u001b[0m in \u001b[0;36minner\u001b[1;34m(ax, *args, **kwargs)\u001b[0m\n\u001b[0;32m   1853\u001b[0m                         \u001b[1;34m\"the Matplotlib list!)\"\u001b[0m \u001b[1;33m%\u001b[0m \u001b[1;33m(\u001b[0m\u001b[0mlabel_namer\u001b[0m\u001b[1;33m,\u001b[0m \u001b[0mfunc\u001b[0m\u001b[1;33m.\u001b[0m\u001b[0m__name__\u001b[0m\u001b[1;33m)\u001b[0m\u001b[1;33m,\u001b[0m\u001b[1;33m\u001b[0m\u001b[0m\n\u001b[0;32m   1854\u001b[0m                         RuntimeWarning, stacklevel=2)\n\u001b[1;32m-> 1855\u001b[1;33m             \u001b[1;32mreturn\u001b[0m \u001b[0mfunc\u001b[0m\u001b[1;33m(\u001b[0m\u001b[0max\u001b[0m\u001b[1;33m,\u001b[0m \u001b[1;33m*\u001b[0m\u001b[0margs\u001b[0m\u001b[1;33m,\u001b[0m \u001b[1;33m**\u001b[0m\u001b[0mkwargs\u001b[0m\u001b[1;33m)\u001b[0m\u001b[1;33m\u001b[0m\u001b[0m\n\u001b[0m\u001b[0;32m   1856\u001b[0m \u001b[1;33m\u001b[0m\u001b[0m\n\u001b[0;32m   1857\u001b[0m         inner.__doc__ = _add_data_doc(inner.__doc__,\n",
      "\u001b[1;32mC:\\Anaconda3\\lib\\site-packages\\matplotlib\\axes\\_axes.py\u001b[0m in \u001b[0;36mhist\u001b[1;34m(***failed resolving arguments***)\u001b[0m\n\u001b[0;32m   6528\u001b[0m             \u001b[1;31m# this will automatically overwrite bins,\u001b[0m\u001b[1;33m\u001b[0m\u001b[1;33m\u001b[0m\u001b[0m\n\u001b[0;32m   6529\u001b[0m             \u001b[1;31m# so that each histogram uses the same bins\u001b[0m\u001b[1;33m\u001b[0m\u001b[1;33m\u001b[0m\u001b[0m\n\u001b[1;32m-> 6530\u001b[1;33m             \u001b[0mm\u001b[0m\u001b[1;33m,\u001b[0m \u001b[0mbins\u001b[0m \u001b[1;33m=\u001b[0m \u001b[0mnp\u001b[0m\u001b[1;33m.\u001b[0m\u001b[0mhistogram\u001b[0m\u001b[1;33m(\u001b[0m\u001b[0mx\u001b[0m\u001b[1;33m[\u001b[0m\u001b[0mi\u001b[0m\u001b[1;33m]\u001b[0m\u001b[1;33m,\u001b[0m \u001b[0mbins\u001b[0m\u001b[1;33m,\u001b[0m \u001b[0mweights\u001b[0m\u001b[1;33m=\u001b[0m\u001b[0mw\u001b[0m\u001b[1;33m[\u001b[0m\u001b[0mi\u001b[0m\u001b[1;33m]\u001b[0m\u001b[1;33m,\u001b[0m \u001b[1;33m**\u001b[0m\u001b[0mhist_kwargs\u001b[0m\u001b[1;33m)\u001b[0m\u001b[1;33m\u001b[0m\u001b[0m\n\u001b[0m\u001b[0;32m   6531\u001b[0m             \u001b[0mm\u001b[0m \u001b[1;33m=\u001b[0m \u001b[0mm\u001b[0m\u001b[1;33m.\u001b[0m\u001b[0mastype\u001b[0m\u001b[1;33m(\u001b[0m\u001b[0mfloat\u001b[0m\u001b[1;33m)\u001b[0m  \u001b[1;31m# causes problems later if it's an int\u001b[0m\u001b[1;33m\u001b[0m\u001b[0m\n\u001b[0;32m   6532\u001b[0m             \u001b[1;32mif\u001b[0m \u001b[0mmlast\u001b[0m \u001b[1;32mis\u001b[0m \u001b[1;32mNone\u001b[0m\u001b[1;33m:\u001b[0m\u001b[1;33m\u001b[0m\u001b[0m\n",
      "\u001b[1;32mC:\\Anaconda3\\lib\\site-packages\\numpy\\lib\\histograms.py\u001b[0m in \u001b[0;36mhistogram\u001b[1;34m(a, bins, range, normed, weights, density)\u001b[0m\n\u001b[0;32m    700\u001b[0m     \u001b[0ma\u001b[0m\u001b[1;33m,\u001b[0m \u001b[0mweights\u001b[0m \u001b[1;33m=\u001b[0m \u001b[0m_ravel_and_check_weights\u001b[0m\u001b[1;33m(\u001b[0m\u001b[0ma\u001b[0m\u001b[1;33m,\u001b[0m \u001b[0mweights\u001b[0m\u001b[1;33m)\u001b[0m\u001b[1;33m\u001b[0m\u001b[0m\n\u001b[0;32m    701\u001b[0m \u001b[1;33m\u001b[0m\u001b[0m\n\u001b[1;32m--> 702\u001b[1;33m     \u001b[0mbin_edges\u001b[0m\u001b[1;33m,\u001b[0m \u001b[0muniform_bins\u001b[0m \u001b[1;33m=\u001b[0m \u001b[0m_get_bin_edges\u001b[0m\u001b[1;33m(\u001b[0m\u001b[0ma\u001b[0m\u001b[1;33m,\u001b[0m \u001b[0mbins\u001b[0m\u001b[1;33m,\u001b[0m \u001b[0mrange\u001b[0m\u001b[1;33m,\u001b[0m \u001b[0mweights\u001b[0m\u001b[1;33m)\u001b[0m\u001b[1;33m\u001b[0m\u001b[0m\n\u001b[0m\u001b[0;32m    703\u001b[0m \u001b[1;33m\u001b[0m\u001b[0m\n\u001b[0;32m    704\u001b[0m     \u001b[1;31m# Histogram is an integer or a float array depending on the weights.\u001b[0m\u001b[1;33m\u001b[0m\u001b[1;33m\u001b[0m\u001b[0m\n",
      "\u001b[1;32mC:\\Anaconda3\\lib\\site-packages\\numpy\\lib\\histograms.py\u001b[0m in \u001b[0;36m_get_bin_edges\u001b[1;34m(a, bins, range, weights)\u001b[0m\n\u001b[0;32m    353\u001b[0m             \u001b[1;32mraise\u001b[0m \u001b[0mValueError\u001b[0m\u001b[1;33m(\u001b[0m\u001b[1;34m'`bins` must be positive, when an integer'\u001b[0m\u001b[1;33m)\u001b[0m\u001b[1;33m\u001b[0m\u001b[0m\n\u001b[0;32m    354\u001b[0m \u001b[1;33m\u001b[0m\u001b[0m\n\u001b[1;32m--> 355\u001b[1;33m         \u001b[0mfirst_edge\u001b[0m\u001b[1;33m,\u001b[0m \u001b[0mlast_edge\u001b[0m \u001b[1;33m=\u001b[0m \u001b[0m_get_outer_edges\u001b[0m\u001b[1;33m(\u001b[0m\u001b[0ma\u001b[0m\u001b[1;33m,\u001b[0m \u001b[0mrange\u001b[0m\u001b[1;33m)\u001b[0m\u001b[1;33m\u001b[0m\u001b[0m\n\u001b[0m\u001b[0;32m    356\u001b[0m \u001b[1;33m\u001b[0m\u001b[0m\n\u001b[0;32m    357\u001b[0m     \u001b[1;32melif\u001b[0m \u001b[0mnp\u001b[0m\u001b[1;33m.\u001b[0m\u001b[0mndim\u001b[0m\u001b[1;33m(\u001b[0m\u001b[0mbins\u001b[0m\u001b[1;33m)\u001b[0m \u001b[1;33m==\u001b[0m \u001b[1;36m1\u001b[0m\u001b[1;33m:\u001b[0m\u001b[1;33m\u001b[0m\u001b[0m\n",
      "\u001b[1;32mC:\\Anaconda3\\lib\\site-packages\\numpy\\lib\\histograms.py\u001b[0m in \u001b[0;36m_get_outer_edges\u001b[1;34m(a, range)\u001b[0m\n\u001b[0;32m    240\u001b[0m         \u001b[1;32mif\u001b[0m \u001b[0mfirst_edge\u001b[0m \u001b[1;33m>\u001b[0m \u001b[0mlast_edge\u001b[0m\u001b[1;33m:\u001b[0m\u001b[1;33m\u001b[0m\u001b[0m\n\u001b[0;32m    241\u001b[0m             raise ValueError(\n\u001b[1;32m--> 242\u001b[1;33m                 'max must be larger than min in range parameter.')\n\u001b[0m\u001b[0;32m    243\u001b[0m         \u001b[1;32mif\u001b[0m \u001b[1;32mnot\u001b[0m \u001b[1;33m(\u001b[0m\u001b[0mnp\u001b[0m\u001b[1;33m.\u001b[0m\u001b[0misfinite\u001b[0m\u001b[1;33m(\u001b[0m\u001b[0mfirst_edge\u001b[0m\u001b[1;33m)\u001b[0m \u001b[1;32mand\u001b[0m \u001b[0mnp\u001b[0m\u001b[1;33m.\u001b[0m\u001b[0misfinite\u001b[0m\u001b[1;33m(\u001b[0m\u001b[0mlast_edge\u001b[0m\u001b[1;33m)\u001b[0m\u001b[1;33m)\u001b[0m\u001b[1;33m:\u001b[0m\u001b[1;33m\u001b[0m\u001b[0m\n\u001b[0;32m    244\u001b[0m             raise ValueError(\n",
      "\u001b[1;31mValueError\u001b[0m: max must be larger than min in range parameter."
     ]
    },
    {
     "data": {
      "image/png": "[encoded data removed]",
      "text/plain": [
       "<Figure size 432x288 with 1 Axes>"
      ]
     },
     "metadata": {},
     "output_type": "display_data"
    }
   ],
   "source": [
    "tmp = fdf2.loc[:, \"NA\":]\n",
    "for i in tmp.columns:\n",
    "    print(i)\n",
    "    plt.hist(fdf2[i])\n",
    "    plt.title(i)\n",
    "    plt.ylabel(\" Frequency\")\n",
    "    plt.yscale('log', nonposy='clip')\n",
    "    plt.show()\n",
    "\n"
   ]
  },
  {
   "cell_type": "code",
   "execution_count": null,
   "metadata": {},
   "outputs": [],
   "source": [
    "df= pd.concat([fdf2, output[\"TARGET\"]], axis=1)\n",
    "valid = df[df.date>=1563]\n",
    "training = df[df.date<1563]\n",
    "X = training.iloc[:,1:-1]\n",
    "y = training.iloc[:,-1]\n",
    "\n",
    "X_valid = valid.iloc[:,1:-1]\n",
    "y_true = valid.iloc[:,-1]\n",
    "logy = np.log(y)"
   ]
  },
  {
   "cell_type": "code",
   "execution_count": null,
   "metadata": {},
   "outputs": [],
   "source": [
    "%%time\n",
    "Lm = []\n",
    "Lt= []\n",
    "Ld = []\n",
    "r = range(80, 170, 30)\n",
    "for i in r:    \n",
    "    xbr= xgb.XGBRegressor(max_depth=3, learning_rate=0.1, n_estimators=i,  subsample=1,  \n",
    "                       random_state=42, n_jobs=-1)\n",
    "    xbr.fit(X, logy)\n",
    "\n",
    "    logy_pred = xbr.predict(X_valid)\n",
    "    y_pred = np.exp(logy_pred )\n",
    "    m= MAPE(y_true, y_pred)\n",
    "    logyt = xbr.predict(X)\n",
    "    yt = np.exp(logyt)\n",
    "    t= MAPE(y, yt)                \n",
    "    print(\"mape valid:    \"+ str(i), m)\n",
    "    print(\"mape training: \"+ str(i), t)\n",
    "    print(\"delta\", m-t)\n",
    "    print(\"--------------\")              \n",
    "    \n",
    "    Lm.append(m)\n",
    "    Lt.append(t)\n",
    "    Ld.append(m-t)"
   ]
  },
  {
   "cell_type": "code",
   "execution_count": null,
   "metadata": {},
   "outputs": [],
   "source": [
    "importances = xbr.feature_importances_\n",
    "feature_importances = pd.DataFrame(importances, index = X.columns, \n",
    "                                   columns=['importance']).sort_values('importance', ascending=False)\n",
    "plt.bar(feature_importances.index, feature_importances[\"importance\"])\n",
    "plt.show()\n",
    "\n",
    "feature_importances.head(60)"
   ]
  },
  {
   "cell_type": "code",
   "execution_count": null,
   "metadata": {},
   "outputs": [],
   "source": [
    "\n",
    "post = X_valid.copy()\n",
    "post[\"y_true\"] = y_true.copy()\n",
    "post[\"y_pred\"] = y_pred.copy()\n",
    "post[\"residus\"] = MAPE_residus(post[\"y_true\"], post[\"y_pred\"])\n",
    "\n",
    "\n",
    "#permodel.sort_values(by=\"MAPE\", ascending=False)[permodel.MAPE > 30]\n"
   ]
  },
  {
   "cell_type": "code",
   "execution_count": null,
   "metadata": {},
   "outputs": [],
   "source": [
    "m  == MAPE(post[\"y_true\"], post[\"y_pred\"])"
   ]
  },
  {
   "cell_type": "code",
   "execution_count": null,
   "metadata": {},
   "outputs": [],
   "source": [
    "post[post.product_id==211].sort_values(by=\"residus\", ascending=False).head()"
   ]
  },
  {
   "cell_type": "code",
   "execution_count": null,
   "metadata": {},
   "outputs": [],
   "source": [
    "Lmp = []\n",
    "Lna = []\n",
    "Lnat = []\n",
    "r = range(1, len(post.product_id.unique()) +1)\n",
    "for i in r:\n",
    "    mape_ = MAPE(post[post.product_id==i].y_true, post[post.product_id==i].y_pred)\n",
    "    Lmp.append(mape_)\n",
    "    Lna.append(post[post.product_id==i].NA.mean())\n",
    "    Lnat.append(test2[test2.product_id==i].NA.mean())"
   ]
  },
  {
   "cell_type": "code",
   "execution_count": null,
   "metadata": {},
   "outputs": [],
   "source": [
    "print(len(r), len(Lmp), len(Lna))"
   ]
  },
  {
   "cell_type": "code",
   "execution_count": null,
   "metadata": {},
   "outputs": [],
   "source": [
    "d={'product_id':r, 'MAPE':Lmp, \"NA\":Lna,\"NA test\": Lnat}\n",
    "perproduct = pd.DataFrame(data=d)"
   ]
  },
  {
   "cell_type": "code",
   "execution_count": null,
   "metadata": {
    "scrolled": true
   },
   "outputs": [],
   "source": [
    "perproduct.sort_values(by=\"MAPE\", ascending=False)[perproduct.MAPE>30]"
   ]
  },
  {
   "cell_type": "code",
   "execution_count": null,
   "metadata": {},
   "outputs": [],
   "source": [
    "perproduct.sort_values(by=\"MAPE\", ascending=False)[perproduct.NA>0.1]"
   ]
  },
  {
   "cell_type": "code",
   "execution_count": null,
   "metadata": {},
   "outputs": [],
   "source": [
    "perproduct.sort_values(by=\"MAPE\", ascending=False)[perproduct[\"NA test\"]>0.1]"
   ]
  },
  {
   "cell_type": "code",
   "execution_count": null,
   "metadata": {
    "scrolled": true
   },
   "outputs": [],
   "source": [
    "plt.plot(r, Lmp, label = \"MAPE\")\n",
    "plt.legend(loc='upper right')\n",
    "plt.title(\"MAPE per product\")\n",
    "plt.show()\n",
    "\n",
    "plt.plot(r, Lna, label = \"NA\")\n",
    "plt.legend(loc='upper right')\n",
    "plt.title(\"NA per product\")\n",
    "plt.show()\n",
    "\n",
    "ax = plt.subplot()\n",
    "ax.set_xscale(\"log\", nonposx='clip')\n",
    "#ax.set_yscale(\"log\", nonposy='clip')\n",
    "plt.plot( 'NA', 'MAPE', data=perproduct, linestyle='', marker='o', markersize=2)\n",
    "#ax.set_ylim(ymin=0.1)\n",
    "ax.set_title('MAPE vs NA per product')\n",
    "plt.show()\n",
    "\n",
    "ax = plt.subplot()\n",
    "ax.set_xscale(\"log\", nonposx='clip')\n",
    "#ax.set_yscale(\"log\", nonposy='clip')\n",
    "plt.plot( 'NA', 'MAPE', data=perproduct, linestyle='', marker='o', markersize=2)\n",
    "ax.set_ylim(ymax=40)\n",
    "ax.set_title('MAPE vs NA per product. Cliped for MAPE>40')\n",
    "plt.show()\n",
    "\n",
    "ax = plt.subplot()\n",
    "#ax.set_xscale(\"log\", nonposx='clip')\n",
    "#ax.set_yscale(\"log\", nonposy='clip')\n",
    "plt.plot( 'NA', 'NA test', data=perproduct, linestyle='', marker='o', markersize=2)\n",
    "#ax.set_ylim(ymax=40)\n",
    "ax.set_title('NA test vs NA per product. ')\n",
    "plt.show()"
   ]
  },
  {
   "cell_type": "code",
   "execution_count": null,
   "metadata": {},
   "outputs": [],
   "source": []
  },
  {
   "cell_type": "code",
   "execution_count": null,
   "metadata": {},
   "outputs": [],
   "source": [
    "i = 211\n",
    "print(\"MAPE product_id=\" +str(i), MAPE(post[post.product_id==i].y_true, post[post.product_id==i].y_pred))\n",
    "print(\"NA mean product_id=\" +str(i), post[post.product_id==i].NA.mean())\n",
    "\n",
    "i = 31\n",
    "print(\"MAPE product_id=\" +str(i), MAPE(post[post.product_id==i].y_true, post[post.product_id==i].y_pred))\n",
    "print(\"NA mean product_id=\" +str(i), post[post.product_id==i].NA.mean())\n",
    "      "
   ]
  },
  {
   "cell_type": "markdown",
   "metadata": {},
   "source": [
    "#### investigating depth when step 2 features (volmean, volstd, ...) are added"
   ]
  },
  {
   "cell_type": "code",
   "execution_count": null,
   "metadata": {},
   "outputs": [],
   "source": [
    "%%time\n",
    "Lm = []\n",
    "Lt= []\n",
    "Ld = []\n",
    "r = range(3, 7)\n",
    "for i in r:    \n",
    "    xbr= xgb.XGBRegressor(max_depth=i, learning_rate=0.1, n_estimators=140,  subsample=1,  \n",
    "                       random_state=42, n_jobs=-1)\n",
    "    xbr.fit(X, logy)\n",
    "\n",
    "    logy_pred = xbr.predict(X_valid)\n",
    "    y_pred = np.exp(logy_pred )\n",
    "    m= MAPE(y_true, y_pred)\n",
    "    logyt = xbr.predict(X)\n",
    "    yt = np.exp(logyt)\n",
    "    t= MAPE(y, yt)                \n",
    "    print(\"mape valid:    \"+ str(i), m)\n",
    "    print(\"mape training: \"+ str(i), t)\n",
    "    print(\"delta\", m-t)\n",
    "    print(\"--------------\")              \n",
    "    \n",
    "    Lm.append(m)\n",
    "    Lt.append(t)\n",
    "    Ld.append(m-t)"
   ]
  },
  {
   "cell_type": "code",
   "execution_count": null,
   "metadata": {},
   "outputs": [],
   "source": [
    "plt.plot(r, Lt, label = \"train\")\n",
    "plt.plot(r, Lm, label = \"valid\")\n",
    "plt.legend(loc='upper right')\n",
    "plt.show()"
   ]
  },
  {
   "cell_type": "code",
   "execution_count": null,
   "metadata": {},
   "outputs": [],
   "source": []
  },
  {
   "cell_type": "code",
   "execution_count": null,
   "metadata": {},
   "outputs": [],
   "source": [
    "test2[test2.product_id==211].NA.mean()"
   ]
  },
  {
   "cell_type": "code",
   "execution_count": null,
   "metadata": {},
   "outputs": [],
   "source": []
  },
  {
   "cell_type": "markdown",
   "metadata": {},
   "source": [
    "#### post proces ypred: when NA too big, replace per 0\n",
    "meme en ce cantonant à 211 c'est marginale\n",
    "en remplacant par la moyenne c'est pire"
   ]
  },
  {
   "cell_type": "code",
   "execution_count": null,
   "metadata": {},
   "outputs": [],
   "source": [
    "post.sort_values(by=\"residus\", ascending=True)[post.NA>0.7].residus.mean()"
   ]
  },
  {
   "cell_type": "code",
   "execution_count": null,
   "metadata": {},
   "outputs": [],
   "source": [
    "post[\"y_pred2\"] = post.y_pred.copy()"
   ]
  },
  {
   "cell_type": "code",
   "execution_count": null,
   "metadata": {},
   "outputs": [],
   "source": [
    "post.y_pred2[post.NA>0.7] =0"
   ]
  },
  {
   "cell_type": "code",
   "execution_count": null,
   "metadata": {},
   "outputs": [],
   "source": [
    "print(\" MAPE without rewrite\", MAPE(post.y_true, post.y_pred))\n",
    "print(\" MAPE with rewrite\", MAPE(post.y_true, post.y_pred2))"
   ]
  },
  {
   "cell_type": "code",
   "execution_count": null,
   "metadata": {},
   "outputs": [],
   "source": [
    "perproduct.sort_values(by=\"MAPE\", ascending=False)[perproduct.NA>0.4]"
   ]
  },
  {
   "cell_type": "code",
   "execution_count": null,
   "metadata": {},
   "outputs": [],
   "source": [
    "post[post.NA>0.8][post.product_id==211].loc[:, \"NA\":].head()"
   ]
  },
  {
   "cell_type": "code",
   "execution_count": null,
   "metadata": {
    "scrolled": true
   },
   "outputs": [],
   "source": [
    "t =0.7\n",
    "y_pred211mean = post.y_pred[post.NA>t][post.product_id==211].mean()\n",
    "\n",
    "post[\"y_pred3\"] = post.y_pred.copy()\n",
    "post[\"y_pred4\"] = post.y_pred.copy()\n",
    "\n",
    "for i in post.y_pred3[post.NA>t][post.product_id==211].index:\n",
    "    post.loc[i, \"y_pred3\"]=0\n",
    "    post.loc[i, \"y_pred4\"]=y_pred211mean\n",
    "print(\" MAPE without rewrite\", MAPE(post.y_true, post.y_pred))\n",
    "print(\" MAPE with rewrite 1\", MAPE(post.y_true, post.y_pred2))\n",
    "print(\" MAPE with rewrite 2\", MAPE(post.y_true, post.y_pred3))\n",
    "i = 211\n",
    "print(\"without rewrite MAPE product_id=\" +str(i), \n",
    "      MAPE(post[post.product_id==i].y_true, post[post.product_id==i].y_pred))\n",
    "print(\"rewrite 1 MAPE product_id=\" +str(i), \n",
    "      MAPE(post[post.product_id==i].y_true, post[post.product_id==i].y_pred2))\n",
    "print(\"rewrite 2 MAPE product_id=\" +str(i), \n",
    "      MAPE(post[post.product_id==i].y_true, post[post.product_id==i].y_pred3))\n",
    "print(\"rewrite 3 MAPE product_id=\" +str(i), \n",
    "      MAPE(post[post.product_id==i].y_true, post[post.product_id==i].y_pred4))"
   ]
  },
  {
   "cell_type": "code",
   "execution_count": null,
   "metadata": {},
   "outputs": [],
   "source": [
    "post[post.NA>t][post.product_id==211].head()"
   ]
  },
  {
   "cell_type": "code",
   "execution_count": null,
   "metadata": {},
   "outputs": [],
   "source": [
    "for t in [0.5, 0.6, 0.7, 0.9, 0.95]:\n",
    "    post[\"y_pred3\"] = post.y_pred.copy()\n",
    "    for i in post.y_pred3[post.NA>t][post.product_id==211].index:\n",
    "        post.loc[i, \"y_pred3\"]=0\n",
    "\n",
    "    i = 211\n",
    "\n",
    "    print(\"rewrite 2 MAPE product_id=\" +str(i), t, \n",
    "          MAPE(post[post.product_id==i].y_true, post[post.product_id==i].y_pred3))\n",
    "    \n",
    "print(\"without rewrite MAPE product_id=\" +str(i), \n",
    "      MAPE(post[post.product_id==i].y_true, post[post.product_id==i].y_pred))"
   ]
  },
  {
   "cell_type": "code",
   "execution_count": null,
   "metadata": {},
   "outputs": [],
   "source": []
  },
  {
   "cell_type": "markdown",
   "metadata": {},
   "source": [
    "### training without 211\n",
    "\n",
    "\n",
    "reference\n",
    "mape valid:    140 24.12963942019092\n",
    "mape training: 140 24.36233000079195\n",
    "delta -0.2326905806010302\n",
    "\n",
    "result: le training s'ameliore (evidement), mais valid se degrade legerement\n",
    "mape valid:    140 24.14341279902005\n",
    "mape training: 140 23.872494337420903\n",
    "delta 0.27091846159914823"
   ]
  },
  {
   "cell_type": "code",
   "execution_count": null,
   "metadata": {},
   "outputs": [],
   "source": [
    "df= pd.concat([fdf2, output[\"TARGET\"]], axis=1)\n",
    "valid = df[df.date>=1563]\n",
    "training = df[df.date<1563][df.product_id!=211]\n",
    "X = training.iloc[:,1:-1]\n",
    "y = training.iloc[:,-1]\n",
    "\n",
    "X_valid = valid.iloc[:,1:-1]\n",
    "y_true = valid.iloc[:,-1]\n",
    "logy = np.log(y)"
   ]
  },
  {
   "cell_type": "code",
   "execution_count": null,
   "metadata": {},
   "outputs": [],
   "source": [
    "%%time\n",
    "Lm = []\n",
    "Lt= []\n",
    "Ld = []\n",
    "r = range(80, 170, 30)\n",
    "for i in r:    \n",
    "    xbr= xgb.XGBRegressor(max_depth=3, learning_rate=0.1, n_estimators=i,  subsample=1,  \n",
    "                       random_state=42, n_jobs=-1)\n",
    "    xbr.fit(X, logy)\n",
    "\n",
    "    logy_pred = xbr.predict(X_valid)\n",
    "    y_pred = np.exp(logy_pred )\n",
    "    m= MAPE(y_true, y_pred)\n",
    "    logyt = xbr.predict(X)\n",
    "    yt = np.exp(logyt)\n",
    "    t= MAPE(y, yt)                \n",
    "    print(\"mape valid:    \"+ str(i), m)\n",
    "    print(\"mape training: \"+ str(i), t)\n",
    "    print(\"delta\", m-t)\n",
    "    print(\"--------------\")              \n",
    "    \n",
    "    Lm.append(m)\n",
    "    Lt.append(t)\n",
    "    Ld.append(m-t)"
   ]
  },
  {
   "cell_type": "markdown",
   "metadata": {},
   "source": [
    "### droping less important features"
   ]
  },
  {
   "cell_type": "code",
   "execution_count": null,
   "metadata": {},
   "outputs": [],
   "source": [
    "fdf2b = fdf2.copy()"
   ]
  },
  {
   "cell_type": "code",
   "execution_count": null,
   "metadata": {},
   "outputs": [],
   "source": [
    "feature_importances[feature_importances.importance<0.01].index"
   ]
  },
  {
   "cell_type": "code",
   "execution_count": null,
   "metadata": {
    "scrolled": true
   },
   "outputs": [],
   "source": [
    "fdf2b.drop(feature_importances[feature_importances.importance<0.01].index, axis=1, inplace=True)"
   ]
  },
  {
   "cell_type": "code",
   "execution_count": null,
   "metadata": {},
   "outputs": [],
   "source": [
    "df= pd.concat([fdf2b, output[\"TARGET\"]], axis=1)\n",
    "valid = df[df.date>=1563]\n",
    "training = df[df.date<1563]\n",
    "X = training.iloc[:,1:-1]\n",
    "y = training.iloc[:,-1]\n",
    "\n",
    "X_valid = valid.iloc[:,1:-1]\n",
    "y_true = valid.iloc[:,-1]\n",
    "logy = np.log(y)"
   ]
  },
  {
   "cell_type": "code",
   "execution_count": null,
   "metadata": {},
   "outputs": [],
   "source": [
    "X.columns"
   ]
  },
  {
   "cell_type": "code",
   "execution_count": null,
   "metadata": {},
   "outputs": [],
   "source": [
    "%%time\n",
    "Lm = []\n",
    "Lt= []\n",
    "Ld = []\n",
    "r = range(80, 170, 30)\n",
    "for i in r:    \n",
    "    xbr= xgb.XGBRegressor(max_depth=3, learning_rate=0.1, n_estimators=i,  subsample=1,  \n",
    "                       random_state=42, n_jobs=-1)\n",
    "    xbr.fit(X, logy)\n",
    "\n",
    "    logy_pred = xbr.predict(X_valid)\n",
    "    y_pred = np.exp(logy_pred )\n",
    "    m= MAPE(y_true, y_pred)\n",
    "    logyt = xbr.predict(X)\n",
    "    yt = np.exp(logyt)\n",
    "    t= MAPE(y, yt)                \n",
    "    print(\"mape valid:    \"+ str(i), m)\n",
    "    print(\"mape training: \"+ str(i), t)\n",
    "    print(\"delta\", m-t)\n",
    "    print(\"--------------\")              \n",
    "    \n",
    "    Lm.append(m)\n",
    "    Lt.append(t)\n",
    "    Ld.append(m-t)"
   ]
  },
  {
   "cell_type": "code",
   "execution_count": null,
   "metadata": {
    "scrolled": true
   },
   "outputs": [],
   "source": [
    "importances = xbr.feature_importances_\n",
    "feature_importances = pd.DataFrame(importances, index = X.columns, \n",
    "                                   columns=['importance']).sort_values('importance', ascending=False)\n",
    "plt.bar(feature_importances.index, feature_importances[\"importance\"])\n",
    "plt.show()\n",
    "\n",
    "feature_importances.head(60)"
   ]
  },
  {
   "cell_type": "code",
   "execution_count": null,
   "metadata": {},
   "outputs": [],
   "source": [
    "temp = fdf2.iloc[:, 2:].columns\n",
    "temp\n",
    "fdf2.groupby(['product_id'])[temp].mean().head()"
   ]
  },
  {
   "cell_type": "markdown",
   "metadata": {},
   "source": [
    "### trying a separate model per product\n",
    "\n",
    "ref \n",
    "mape valid:    110 24.204416648914243\n",
    "mape training: 110 24.499145575072742\n",
    "delta -0.29472892615849844"
   ]
  },
  {
   "cell_type": "code",
   "execution_count": null,
   "metadata": {
    "scrolled": true
   },
   "outputs": [],
   "source": [
    "training.product_id.unique()\n",
    "#training[training.product_id==1]"
   ]
  },
  {
   "cell_type": "code",
   "execution_count": null,
   "metadata": {},
   "outputs": [],
   "source": [
    "df= pd.concat([fdf2, output[\"TARGET\"]], axis=1)\n",
    "valid = df[df.date>=1563]\n",
    "training = df[df.date<1563]\n"
   ]
  },
  {
   "cell_type": "code",
   "execution_count": null,
   "metadata": {},
   "outputs": [],
   "source": [
    "df.columns"
   ]
  },
  {
   "cell_type": "code",
   "execution_count": null,
   "metadata": {
    "scrolled": true
   },
   "outputs": [],
   "source": [
    "%%time\n",
    "Lm = []\n",
    "Lt= []\n",
    "Ld = []\n",
    "\n",
    "for i in range(1, 319):\n",
    "    X = training[training.product_id==i].iloc[:,1:-1]\n",
    "    y = training[training.product_id==i].iloc[:,-1]\n",
    "\n",
    "    X_valid = valid[valid.product_id==i].iloc[:,1:-1]\n",
    "    y_true = valid[valid.product_id==i].iloc[:,-1]\n",
    "    logy = np.log(y)\n",
    "    xbr= xgb.XGBRegressor(max_depth=3, learning_rate=0.1, n_estimators=50,  subsample=1,  #110\n",
    "                       random_state=42, n_jobs=-1)\n",
    "    xbr.fit(X, logy)\n",
    "\n",
    "    logy_pred = xbr.predict(X_valid)\n",
    "    y_pred = np.exp(logy_pred )\n",
    "    m= MAPE(y_true, y_pred)\n",
    "    logyt = xbr.predict(X)\n",
    "    yt = np.exp(logyt)\n",
    "    t= MAPE(y, yt)                \n",
    "    print(\"mape valid for product_id:    \"+ str(i), m)\n",
    "    print(\"mape training for product_id: \"+ str(i), t)\n",
    "    print(\"delta\", m-t)\n",
    "    print(\"--------------\") \n",
    "    \n",
    "    if (i==211):\n",
    "        X_valid211 = X_valid.copy()\n",
    "        y_pred211 = y_pred.copy()\n",
    "        y_true211 = y_true.copy()\n",
    "        print(\"saving product_id\")\n",
    "    \n",
    "    Lm.append(m)\n",
    "    Lt.append(t)\n",
    "    Ld.append(m-t)"
   ]
  },
  {
   "cell_type": "code",
   "execution_count": null,
   "metadata": {},
   "outputs": [],
   "source": [
    "r = range(1, 319)\n",
    "plt.plot(r, Lt, label = \"train\")\n",
    "plt.plot(r, Lm, label = \"valid\")\n",
    "plt.legend(loc='upper right')"
   ]
  },
  {
   "cell_type": "code",
   "execution_count": null,
   "metadata": {},
   "outputs": [],
   "source": [
    "len(df211.index)"
   ]
  },
  {
   "cell_type": "code",
   "execution_count": null,
   "metadata": {},
   "outputs": [],
   "source": [
    "d={'product_id':r, 'MAPE':Lm}\n",
    "permodel = pd.DataFrame(data=d)"
   ]
  },
  {
   "cell_type": "code",
   "execution_count": null,
   "metadata": {},
   "outputs": [],
   "source": [
    "permodel.head()"
   ]
  },
  {
   "cell_type": "code",
   "execution_count": null,
   "metadata": {},
   "outputs": [],
   "source": [
    "permodel.sort_values(by=\"MAPE\", ascending=False)[permodel.MAPE > 30]"
   ]
  },
  {
   "cell_type": "code",
   "execution_count": null,
   "metadata": {},
   "outputs": [],
   "source": [
    "r= range(1, len(permodel)+1)\n",
    "plt.plot(r, permodel.sort_values(by=\"MAPE\", ascending=False).MAPE, label = \"MAPE\")\n",
    "\n",
    "plt.legend(loc='upper right')\n",
    "plt.title(\"MAPE per product\")\n",
    "plt.show()\n",
    "\n",
    "s = permodel.sort_values(by=\"MAPE\", ascending=False)[permodel.MAPE < 30].MAPE\n",
    "r= range(1, len(s)+1)\n",
    "plt.plot(r,s , label = \"MAPE\")\n",
    "\n",
    "plt.legend(loc='upper right')\n",
    "plt.title(\"MAPE per product\")\n",
    "plt.show()"
   ]
  },
  {
   "cell_type": "code",
   "execution_count": null,
   "metadata": {},
   "outputs": [],
   "source": [
    "product10 = list(permodel.sort_values(by=\"MAPE\", ascending=False).head(10).product_id)\n",
    "df[df.product_id.isin(product10)].head()"
   ]
  },
  {
   "cell_type": "code",
   "execution_count": null,
   "metadata": {},
   "outputs": [],
   "source": [
    "df[df.product_id==211].loc[:, :'NA'].head(16)"
   ]
  },
  {
   "cell_type": "code",
   "execution_count": null,
   "metadata": {},
   "outputs": [],
   "source": [
    "df211= df[df.product_id==211]"
   ]
  },
  {
   "cell_type": "code",
   "execution_count": null,
   "metadata": {},
   "outputs": [],
   "source": [
    "df211[\"NA\"].mean()"
   ]
  },
  {
   "cell_type": "code",
   "execution_count": null,
   "metadata": {},
   "outputs": [],
   "source": [
    "plt.plot( 'TARGET', 'NA', data=df211, linestyle='', marker='o', markersize=2)\n",
    "#plt.yscale('log', nonposy='clip')\n",
    "#ax.set_xlim(0,)\n",
    "#ax.set_ylim(-0.1,)\n",
    "plt.title(\"NA vs y product 211\")\n",
    "plt.show()\n",
    "\n",
    "plt.plot( 'TARGET', 'NA', data=df[df.NA>0.2], linestyle='', marker='o', markersize=2)\n",
    "#plt.yscale('log', nonposy='clip')\n",
    "#ax.set_xlim(0,)\n",
    "#ax.set_ylim(-0.1,)\n",
    "plt.title(\"NA vs y for NA>0.2\")\n",
    "plt.show()\n",
    "\n",
    "\n",
    "ax = plt.subplot()\n",
    "ax.set_xscale(\"log\", nonposx='clip')\n",
    "#ax.set_yscale(\"log\", nonposy='clip')\n",
    "plt.plot( 'TARGET', 'NA', data=df211, linestyle='', marker='o', markersize=2, alpha=0.6)\n",
    "#ax.set_ylim(ymin=0.1)\n",
    "ax.set_title('NA vs y product 211')\n",
    "plt.show()"
   ]
  },
  {
   "cell_type": "code",
   "execution_count": null,
   "metadata": {},
   "outputs": [],
   "source": [
    "plt.plot( 'TARGET', 'NA', data=df[df.NA>0.2], linestyle='', marker='o', markersize=2)\n",
    "#plt.yscale('log', nonposy='clip')\n",
    "#ax.set_xlim(0,)\n",
    "#ax.set_ylim(-0.1,)\n",
    "plt.title(\"NA vs y for NA>0.2\")\n",
    "plt.show()\n",
    "\n",
    "\n",
    "ax = plt.subplot()\n",
    "ax.set_xscale(\"log\", nonposx='clip')\n",
    "#ax.set_yscale(\"log\", nonposy='clip')\n",
    "plt.plot( 'TARGET', 'NA', data=df[df.NA>0.2], linestyle='', marker='o', markersize=2, alpha=0.6)\n",
    "#ax.set_ylim(ymin=0.1)\n",
    "ax.set_title('NA vs y for NA>0.2 ')\n",
    "plt.show()"
   ]
  },
  {
   "cell_type": "code",
   "execution_count": null,
   "metadata": {},
   "outputs": [],
   "source": [
    "valid211 = X_valid211.copy()\n",
    "valid211['y_pred']= y_pred211.copy()\n",
    "valid211['y_true']= y_true211.copy()\n",
    "valid211['residus'] = MAPE_residus(y_true211, y_pred211)"
   ]
  },
  {
   "cell_type": "code",
   "execution_count": null,
   "metadata": {},
   "outputs": [],
   "source": [
    "\n",
    "def plot_product(X_valid211, y_pred211, y_true211, rmax=None):\n",
    "    valid211 = X_valid211.copy()\n",
    "    valid211['y_pred']= y_pred211.copy()\n",
    "    valid211['y_true']= y_true211.copy()\n",
    "    valid211['residus'] = MAPE_residus(y_true211, y_pred211)\n",
    "    ax = plt.subplot()\n",
    "    #ax.set_xscale(\"log\", nonposx='clip')\n",
    "    #ax.set_yscale(\"log\", nonposy='clip')\n",
    "    plt.plot( 'NA', 'residus', data=valid211, linestyle='', marker='o', markersize=2)\n",
    "    ax.set_ylim(ymax=rmax)\n",
    "    plt.title(\"residus vs NA for product 211 - one outlier out of scale\")\n",
    "    plt.show()\n",
    "    \n",
    "plot_product(X_valid211, y_pred211, y_true211, rmax=13)"
   ]
  },
  {
   "cell_type": "markdown",
   "metadata": {},
   "source": [
    "Une partie desresidus semblemnt s'envoler pour NA> 0.3"
   ]
  },
  {
   "cell_type": "markdown",
   "metadata": {},
   "source": [
    "### Features engineering: adding the means by products\n",
    "product_id: 1..318"
   ]
  },
  {
   "cell_type": "code",
   "execution_count": null,
   "metadata": {},
   "outputs": [],
   "source": []
  },
  {
   "cell_type": "code",
   "execution_count": null,
   "metadata": {},
   "outputs": [],
   "source": [
    "r1 = fdf2.loc[fdf2.product_id==31, \"volatility 09:30:00\":\"volatility 13:55:00\"].shape[0]\n",
    "c1 = fdf2.loc[fdf2.product_id==31, \"volatility 09:30:00\":\"volatility 13:55:00\"].shape[1]\n",
    "\n",
    "np.nanmean(fdf2.loc[fdf2.product_id==31, \"volatility 09:30:00\":\"volatility 13:55:00\"].values.reshape((r1*c1, 1)))\n"
   ]
  },
  {
   "cell_type": "code",
   "execution_count": null,
   "metadata": {
    "scrolled": true
   },
   "outputs": [],
   "source": [
    "%%time\n",
    "\n",
    "def build_features_3(fdf2):\n",
    "    col = fdf2.columns[2:]\n",
    "    fdf3= fdf2.copy()\n",
    "    for p in range(1, 319):\n",
    "        v = fdf2.loc[fdf2.product_id==p, \"volatility 09:30:00\":\"volatility 13:55:00\"]\n",
    "        r1 = v.shape[0]\n",
    "        c1 = v.shape[1]\n",
    "        fdf3.loc[fdf3.product_id==p, \"product_mean\"] = np.nanmean(fdf2.loc[fdf2.product_id==p, \"volatility 09:30:00\":\"volatility 13:55:00\"].values.reshape((r1*c1, 1)))\n",
    "        for i in col:\n",
    "            #col = \"return_sum\"\n",
    "            temp = fdf2.loc[fdf2.product_id==p, i].mean()\n",
    "            #print(i, temp)\n",
    "            fdf3.loc[fdf3.product_id==p, i] = fdf3.loc[fdf3.product_id==p, i] - temp\n",
    "    return fdf3"
   ]
  },
  {
   "cell_type": "code",
   "execution_count": null,
   "metadata": {},
   "outputs": [],
   "source": [
    "%%time\n",
    "fdf3 = build_features_3(fdf2)"
   ]
  },
  {
   "cell_type": "code",
   "execution_count": null,
   "metadata": {},
   "outputs": [],
   "source": [
    "fdf3[fdf3.product_id==4].head()\n"
   ]
  },
  {
   "cell_type": "code",
   "execution_count": null,
   "metadata": {},
   "outputs": [],
   "source": [
    "fdf2[fdf2.product_id==4].head()"
   ]
  },
  {
   "cell_type": "markdown",
   "metadata": {},
   "source": [
    "# as is does not work\n",
    "product mean has high importance but except this, performance are worst (and without it awfull)\n",
    "\n",
    "avec tout\n",
    "mape valid:    140 24.2883711902457\n",
    "mape training: 140 24.52647198244592\n",
    "delta -0.23810079220021763\n",
    "\n",
    "importance\n",
    "product_mean \t0.208163\n",
    "volmean \t0.134694\n",
    "return_zeros \t0.080612\n",
    "vol75% \t0.048980\n",
    "volatility 13:55:00 \t0.043878\n",
    "NA \t0.034694\n",
    "volatility 13:50:00 \t0.033673\n",
    "\n",
    "sans product_mean\n",
    "mape valid:    140 26.030174610130068\n",
    "mape training: 140 26.279038534587595\n",
    "delta -0.24886392445752747\n"
   ]
  },
  {
   "cell_type": "code",
   "execution_count": null,
   "metadata": {},
   "outputs": [],
   "source": [
    "df= pd.concat([fdf3, output[\"TARGET\"]], axis=1)\n",
    "valid = df[df.date>=1563]\n",
    "training = df[df.date<1563]\n",
    "X = training.iloc[:,2:-1]\n",
    "y = training.iloc[:,-1]\n",
    "\n",
    "X_valid = valid.iloc[:,2:-1]\n",
    "y_true = valid.iloc[:,-1]\n",
    "logy = np.log(y)"
   ]
  },
  {
   "cell_type": "code",
   "execution_count": null,
   "metadata": {
    "scrolled": true
   },
   "outputs": [],
   "source": [
    "%%time\n",
    "Lm = []\n",
    "Lt= []\n",
    "Ld = []\n",
    "r = range(80, 170, 30)\n",
    "for i in r:    \n",
    "    xbr= xgb.XGBRegressor(max_depth=3, learning_rate=0.1, n_estimators=i,  subsample=1,  \n",
    "                       random_state=42, n_jobs=-1)\n",
    "    xbr.fit(X, logy)\n",
    "\n",
    "    logy_pred = xbr.predict(X_valid)\n",
    "    y_pred = np.exp(logy_pred )\n",
    "    m= MAPE(y_true, y_pred)\n",
    "    logyt = xbr.predict(X)\n",
    "    yt = np.exp(logyt)\n",
    "    t= MAPE(y, yt)                \n",
    "    print(\"mape valid:    \"+ str(i), m)\n",
    "    print(\"mape training: \"+ str(i), t)\n",
    "    print(\"delta\", m-t)\n",
    "    print(\"--------------\")              \n",
    "    \n",
    "    Lm.append(m)\n",
    "    Lt.append(t)\n",
    "    Ld.append(m-t)"
   ]
  },
  {
   "cell_type": "code",
   "execution_count": null,
   "metadata": {},
   "outputs": [],
   "source": [
    "importances = xbr.feature_importances_\n",
    "feature_importances = pd.DataFrame(importances, index = X.columns, \n",
    "                                   columns=['importance']).sort_values('importance', ascending=False)\n",
    "plt.bar(feature_importances.index, feature_importances[\"importance\"])\n",
    "plt.show()\n",
    "\n",
    "feature_importances"
   ]
  },
  {
   "cell_type": "markdown",
   "metadata": {},
   "source": [
    "#### trying again without substracting mean to each features, just adding product_mean as a start\n",
    "\n",
    "reference\n",
    "mape valid:    140 24.12963942019092\n",
    "mape training: 140 24.36233000079195\n",
    "delta -0.2326905806010302\n",
    "\n",
    "avec product_mean (sans product id)\n",
    "mape valid:    140 24.04295602135195\n",
    "mape training: 140 24.257907302708894\n",
    "delta -0.2149512813569423\n",
    "\n",
    "et product_std en plus: ne change pas grand chose\n",
    "mape valid:    140 24.04486471918276\n",
    "mape training: 140 24.27193480127085\n",
    "delta -0.22707008208809043\n"
   ]
  },
  {
   "cell_type": "code",
   "execution_count": null,
   "metadata": {},
   "outputs": [],
   "source": [
    "%%time\n",
    "\n",
    "def build_features_4(fdf2):\n",
    "    col = fdf2.columns[2:]\n",
    "    fdf4= fdf2.copy()\n",
    "    for p in range(1, 319):\n",
    "        v = fdf2.loc[fdf2.product_id==p, \"volatility 09:30:00\":\"volatility 13:55:00\"]\n",
    "        r1 = v.shape[0]\n",
    "        c1 = v.shape[1]\n",
    "        fdf4.loc[fdf3.product_id==p, \"product_mean\"] = np.nanmean(fdf2.loc[fdf2.product_id==p, \"volatility 09:30:00\":\"volatility 13:55:00\"].values.reshape((r1*c1, 1)))\n",
    "        fdf4.loc[fdf3.product_id==p, \"product_std\"] = np.nanstd(fdf2.loc[fdf2.product_id==p, \"volatility 09:30:00\":\"volatility 13:55:00\"].values.reshape((r1*c1, 1)))\n",
    "    return fdf4"
   ]
  },
  {
   "cell_type": "code",
   "execution_count": null,
   "metadata": {},
   "outputs": [],
   "source": [
    "%%time\n",
    "fdf4 = build_features_4(fdf2)"
   ]
  },
  {
   "cell_type": "code",
   "execution_count": null,
   "metadata": {},
   "outputs": [],
   "source": [
    "%%time\n",
    "test4 = build_features_4(test2)"
   ]
  },
  {
   "cell_type": "code",
   "execution_count": null,
   "metadata": {},
   "outputs": [],
   "source": [
    "fdf4.head()"
   ]
  },
  {
   "cell_type": "code",
   "execution_count": null,
   "metadata": {},
   "outputs": [],
   "source": [
    "df= pd.concat([fdf4, output[\"TARGET\"]], axis=1)\n",
    "valid = df[df.date>=1563]\n",
    "training = df[df.date<1563]\n",
    "X = training.iloc[:,2:-1]\n",
    "y = training.iloc[:,-1]\n",
    "\n",
    "X_valid = valid.iloc[:,2:-1]\n",
    "y_true = valid.iloc[:,-1]\n",
    "logy = np.log(y)"
   ]
  },
  {
   "cell_type": "code",
   "execution_count": null,
   "metadata": {},
   "outputs": [],
   "source": [
    "X.columns"
   ]
  },
  {
   "cell_type": "code",
   "execution_count": null,
   "metadata": {},
   "outputs": [],
   "source": [
    "%%time\n",
    "\n",
    "Lm = []\n",
    "Lt= []\n",
    "Ld = []\n",
    "r = range(80, 170, 30)\n",
    "for i in r:    \n",
    "    xbr= xgb.XGBRegressor(max_depth=3, learning_rate=0.1, n_estimators=i,  subsample=1,  \n",
    "                       random_state=42, n_jobs=-1)\n",
    "    xbr.fit(X, logy)\n",
    "\n",
    "    logy_pred = xbr.predict(X_valid)\n",
    "    y_pred = np.exp(logy_pred )\n",
    "    m= MAPE(y_true, y_pred)\n",
    "    logyt = xbr.predict(X)\n",
    "    yt = np.exp(logyt)\n",
    "    t= MAPE(y, yt)                \n",
    "    print(\"mape valid:    \"+ str(i), m)\n",
    "    print(\"mape training: \"+ str(i), t)\n",
    "    print(\"delta\", m-t)\n",
    "    print(\"--------------\")              \n",
    "    \n",
    "    Lm.append(m)\n",
    "    Lt.append(t)\n",
    "    Ld.append(m-t)"
   ]
  },
  {
   "cell_type": "code",
   "execution_count": null,
   "metadata": {},
   "outputs": [],
   "source": [
    "importances = xbr.feature_importances_\n",
    "feature_importances = pd.DataFrame(importances, index = X.columns, \n",
    "                                   columns=['importance']).sort_values('importance', ascending=False)\n",
    "plt.bar(feature_importances.index, feature_importances[\"importance\"])\n",
    "plt.show()\n",
    "\n",
    "feature_importances"
   ]
  },
  {
   "cell_type": "code",
   "execution_count": null,
   "metadata": {},
   "outputs": [],
   "source": [
    "%%time\n",
    "Lm = []\n",
    "Lt= []\n",
    "Ld = []\n",
    "r = range(3, 7)\n",
    "for i in r:    \n",
    "    xbr= xgb.XGBRegressor(max_depth=i, learning_rate=0.1, n_estimators=140,  subsample=1,  \n",
    "                       random_state=42, n_jobs=-1)\n",
    "    xbr.fit(X, logy)\n",
    "\n",
    "    logy_pred = xbr.predict(X_valid)\n",
    "    y_pred = np.exp(logy_pred )\n",
    "    m= MAPE(y_true, y_pred)\n",
    "    logyt = xbr.predict(X)\n",
    "    yt = np.exp(logyt)\n",
    "    t= MAPE(y, yt)                \n",
    "    print(\"mape valid:    \"+ str(i), m)\n",
    "    print(\"mape training: \"+ str(i), t)\n",
    "    print(\"delta\", m-t)\n",
    "    print(\"--------------\")              \n",
    "    \n",
    "    Lm.append(m)\n",
    "    Lt.append(t)\n",
    "    Ld.append(m-t)"
   ]
  },
  {
   "cell_type": "code",
   "execution_count": null,
   "metadata": {},
   "outputs": [],
   "source": [
    "plt.plot(r, Lt, label = \"train\")\n",
    "plt.plot(r, Lm, label = \"valid\")\n",
    "plt.legend(loc='upper right')\n",
    "plt.show()"
   ]
  },
  {
   "cell_type": "code",
   "execution_count": null,
   "metadata": {},
   "outputs": [],
   "source": [
    "importances = xbr.feature_importances_\n",
    "feature_importances = pd.DataFrame(importances, index = X.columns, \n",
    "                                   columns=['importance']).sort_values('importance', ascending=False)\n",
    "plt.bar(feature_importances.index, feature_importances[\"importance\"])\n",
    "plt.show()\n",
    "\n",
    "feature_importances"
   ]
  },
  {
   "cell_type": "code",
   "execution_count": null,
   "metadata": {},
   "outputs": [],
   "source": []
  },
  {
   "cell_type": "markdown",
   "metadata": {},
   "source": [
    "#### let's push with depth = 4 (instead of the default 3)\n",
    "\n",
    "ref for depth 3 for 140 estimators\n",
    "mape valid:    3 24.12963942019092\n",
    "mape training: 3 24.36233000079195\n",
    "delta -0.2326905806010302"
   ]
  },
  {
   "cell_type": "code",
   "execution_count": null,
   "metadata": {},
   "outputs": [],
   "source": [
    "%%time\n",
    "Lm = []\n",
    "Lt= []\n",
    "Ld = []\n",
    "r = range(100, 210, 10)\n",
    "for i in r:    \n",
    "    xbr= xgb.XGBRegressor(max_depth=4, learning_rate=0.1, n_estimators=i,  subsample=1,  \n",
    "                       random_state=42, n_jobs=-1)\n",
    "    xbr.fit(X, logy)\n",
    "\n",
    "    logy_pred = xbr.predict(X_valid)\n",
    "    y_pred = np.exp(logy_pred )\n",
    "    m= MAPE(y_true, y_pred)\n",
    "    logyt = xbr.predict(X)\n",
    "    yt = np.exp(logyt)\n",
    "    t= MAPE(y, yt)                \n",
    "    print(\"mape valid:    \"+ str(i), m)\n",
    "    print(\"mape training: \"+ str(i), t)\n",
    "    print(\"delta\", m-t)\n",
    "    print(\"--------------\")              \n",
    "    \n",
    "    Lm.append(m)\n",
    "    Lt.append(t)\n",
    "    Ld.append(m-t)"
   ]
  },
  {
   "cell_type": "code",
   "execution_count": null,
   "metadata": {},
   "outputs": [],
   "source": [
    "plt.plot(r, Lt, label = \"train\")\n",
    "plt.plot(r, Lm, label = \"valid\")\n",
    "plt.legend(loc='upper right')\n",
    "plt.show()"
   ]
  },
  {
   "cell_type": "markdown",
   "metadata": {},
   "source": [
    "trying regulatisation"
   ]
  },
  {
   "cell_type": "code",
   "execution_count": null,
   "metadata": {
    "scrolled": true
   },
   "outputs": [],
   "source": [
    "%%time\n",
    "\n",
    "for l in [2, 3, 4, 5]:\n",
    "    Lm = []\n",
    "    Lt= []\n",
    "    Ld = []\n",
    "    r = range(130, 200, 10)\n",
    "    print(\"--------------------------------\")\n",
    "    print(\"lambda\", l)\n",
    "    for i in r:    \n",
    "        xbr= xgb.XGBRegressor(max_depth=4, learning_rate=0.1, n_estimators=i,  subsample=1,  \n",
    "                           random_state=42, n_jobs=-1, reg_lambda=l)\n",
    "        xbr.fit(X, logy)\n",
    "\n",
    "        logy_pred = xbr.predict(X_valid)\n",
    "        y_pred = np.exp(logy_pred )\n",
    "        m= MAPE(y_true, y_pred)\n",
    "        logyt = xbr.predict(X)\n",
    "        yt = np.exp(logyt)\n",
    "        t= MAPE(y, yt)                \n",
    "        print(\"mape valid:    \"+ str(i), m)\n",
    "        print(\"mape training: \"+ str(i), t)\n",
    "        print(\"delta\", m-t)\n",
    "        print(\"--------------\")              \n",
    "\n",
    "        Lm.append(m)\n",
    "        Lt.append(t)\n",
    "        Ld.append(m-t)\n",
    "\n",
    "    plt.plot(r, Lt, label = \"train\")\n",
    "    plt.plot(r, Lm, label = \"valid\")\n",
    "    plt.legend(loc='upper right')\n",
    "    plt.title(\"train/valid for estimators\" +str(i) + \" and lambda\" +  str(l))\n",
    "    plt.show()"
   ]
  },
  {
   "cell_type": "markdown",
   "metadata": {},
   "source": [
    "Trying to submit"
   ]
  },
  {
   "cell_type": "code",
   "execution_count": null,
   "metadata": {},
   "outputs": [],
   "source": [
    "X.columns"
   ]
  },
  {
   "cell_type": "code",
   "execution_count": null,
   "metadata": {},
   "outputs": [],
   "source": [
    "test4.head()"
   ]
  },
  {
   "cell_type": "code",
   "execution_count": null,
   "metadata": {},
   "outputs": [],
   "source": [
    "X = fdf4.iloc[:,2:]\n",
    "y = output[\"TARGET\"]\n",
    "\n",
    "logy = np.log(y)\n",
    "X_test = test4.iloc[:,3:]"
   ]
  },
  {
   "cell_type": "code",
   "execution_count": null,
   "metadata": {},
   "outputs": [],
   "source": [
    "X_test.columns"
   ]
  },
  {
   "cell_type": "code",
   "execution_count": null,
   "metadata": {},
   "outputs": [],
   "source": [
    "X.columns == X_test.columns"
   ]
  },
  {
   "cell_type": "code",
   "execution_count": null,
   "metadata": {},
   "outputs": [],
   "source": [
    "xbr= xgb.XGBRegressor(max_depth=4, learning_rate=0.1, n_estimators=170,  subsample=1,  \n",
    "                           random_state=42, n_jobs=-1, reg_lambda=4)\n",
    "\n",
    "xbr.fit(X, logy)\n",
    "logy_pred = xbr.predict(X_test)\n",
    "y_pred = np.exp(logy_pred )\n",
    "\n",
    "\n",
    "\n"
   ]
  },
  {
   "cell_type": "code",
   "execution_count": null,
   "metadata": {},
   "outputs": [],
   "source": [
    "logyt = xbr.predict(X)\n",
    "yt = np.exp(logyt)\n",
    "\n",
    "print(MAPE(y, yt))\n",
    "\n",
    " "
   ]
  },
  {
   "cell_type": "code",
   "execution_count": null,
   "metadata": {},
   "outputs": [],
   "source": [
    "# score challenge 24.37\n",
    "#mape valid:    170 23.971816721617984\n",
    "#mape training: 170 23.99550792956179\n",
    "\n",
    "d = {'TARGET':y_pred}\n",
    "result = pd.DataFrame(data=d)\n",
    "result.to_csv('C:\\\\Users\\\\i053131\\\\Desktop\\\\Epilepsie\\\\CFM\\\\data\\\\processed\\\\xgb_feature_4_d4_e170_l4.csv', \n",
    "              sep = \";\",index_label=\"ID\")"
   ]
  },
  {
   "cell_type": "markdown",
   "metadata": {},
   "source": [
    "# Variability of return"
   ]
  },
  {
   "cell_type": "code",
   "execution_count": null,
   "metadata": {},
   "outputs": [],
   "source": [
    "def get_return_inflexions(s, viz=False): #s is a serie\n",
    "    #an inflexion point is when\n",
    "    #return = 1 after a series of -1 or 0\n",
    "    #return = -1 after a series of 1 or 0\n",
    "    inflexlist = []\n",
    "    tendance =0\n",
    "    for i in range(0, len(s)):\n",
    "        if (np.isnan(s[i]) or s[i] ==0): #0 does not change tendance\n",
    "            continue\n",
    "        if (tendance != s[i]):\n",
    "            inflexlist.append(i)\n",
    "            tendance = s[i]\n",
    "    \n",
    "    \n",
    "    ybeat = [s[x] for x in inflexlist] #Get the y-value of all peaks for plotting purposes\n",
    "    if (viz):\n",
    "        fig = plt.figure(figsize=(14, 8))\n",
    "        ax1 = fig.add_subplot(211)\n",
    "        ax1.set_title(\"Detected peaks in signal\")\n",
    "        #ax1.set_xlim(0,1500)\n",
    "        ax1.plot(s, alpha=0.5, color='blue') #Plot semi-transparent HR\n",
    "        \n",
    "        ax1.scatter(inflexlist, ybeat, color='red') #Plot detected peaks\n",
    "        fig.show()\n",
    "    return inflexlist"
   ]
  },
  {
   "cell_type": "code",
   "execution_count": null,
   "metadata": {},
   "outputs": [],
   "source": [
    "get_return_inflexions(return_.loc[1, :], viz=True)"
   ]
  },
  {
   "cell_type": "markdown",
   "metadata": {},
   "source": [
    "Heart Rate Variability” (HRV) measures:\n",
    "- IBI (inter-beat interval), the mean distance of intervals between heartbeat\n",
    "- SDNN, the standard deviation of intervals between heartbeats (usually computed on the average of 5 minutes on 24 hours)\n",
    "- SDSD, the standard deviation of successive differences between adjacent R-R intervals\n",
    "- RMSSD, the root mean square of successive differences between adjacent R-R intervals:\n",
    "- pNN50, the number of pairs of successive differences  that differ by more than 50 ms / total number of pairs. As the sampling rate is 50hz, 20 ms differences is on \"tick\" and we can have pNN60 but not pNN50\n",
    "- median absolute deviation of RR intervals (MAD)"
   ]
  },
  {
   "cell_type": "code",
   "execution_count": null,
   "metadata": {},
   "outputs": [],
   "source": [
    "def BPM(peak):\n",
    "    return len(peak)*2"
   ]
  },
  {
   "cell_type": "code",
   "execution_count": null,
   "metadata": {},
   "outputs": [],
   "source": []
  }
 ],
 "metadata": {
  "kernelspec": {
   "display_name": "Python 3",
   "language": "python",
   "name": "python3"
  },
  "language_info": {
   "codemirror_mode": {
    "name": "ipython",
    "version": 3
   },
   "file_extension": ".py",
   "mimetype": "text/x-python",
   "name": "python",
   "nbconvert_exporter": "python",
   "pygments_lexer": "ipython3",
   "version": "3.6.6"
  }
 },
 "nbformat": 4,
 "nbformat_minor": 2
}
